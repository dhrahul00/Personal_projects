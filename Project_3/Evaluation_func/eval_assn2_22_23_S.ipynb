{
  "nbformat": 4,
  "nbformat_minor": 0,
  "metadata": {
    "colab": {
      "provenance": [],
      "gpuType": "T4"
    },
    "kernelspec": {
      "name": "python3",
      "display_name": "Python 3"
    },
    "language_info": {
      "name": "python"
    },
    "accelerator": "GPU"
  },
  "cells": [
    {
      "cell_type": "code",
      "execution_count": null,
      "metadata": {
        "id": "BZoTAbt8GKkF"
      },
      "outputs": [],
      "source": [
        "import predict\n",
        "import time as tm\n",
        "import numpy as np"
      ]
    },
    {
      "cell_type": "code",
      "source": [
        "num_test = 300\n",
        "filepaths = [ \"/content/drive/MyDrive/test/%d.png\" % i for i in range( num_test ) ]\n",
        "file = open( \"/content/drive/MyDrive/test/labels.txt\", \"r\" )\n",
        "gold_output = file.read().splitlines()\n",
        "file.close()\n",
        "\n",
        "# Get recommendations from predict.py and time the thing\n",
        "tic = tm.perf_counter()\n",
        "output = predict.decaptcha(filepaths)\n",
        "toc = tm.perf_counter()\n",
        "\n",
        "parity_match = np.array( [ 1 if x.strip().upper() == y.strip().upper() else 0 for ( x, y ) in zip ( output, gold_output ) ] ).sum()\n",
        "\n",
        "print( f\"Time taken per image is {(toc - tic) / num_test} seconds\" )\n",
        "print( f\"Parity match score is {parity_match / num_test}\" )"
      ],
      "metadata": {
        "colab": {
          "base_uri": "https://localhost:8080/"
        },
        "id": "V9ELUUmHGRHQ",
        "outputId": "9c99e32d-12fb-46b8-8383-9b60fc17894e"
      },
      "execution_count": null,
      "outputs": [
        {
          "output_type": "stream",
          "name": "stdout",
          "text": [
            "Time taken per image is 0.10669163833333338 seconds\n",
            "Parity match score is 1.0\n"
          ]
        }
      ]
    },
    {
      "cell_type": "code",
      "source": [],
      "metadata": {
        "id": "2-YQONMBqm1C"
      },
      "execution_count": null,
      "outputs": []
    }
  ]
}