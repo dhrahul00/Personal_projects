{
 "cells": [
  {
   "cell_type": "markdown",
   "id": "53a01dd1",
   "metadata": {},
   "source": [
    "## Import package"
   ]
  },
  {
   "cell_type": "code",
   "execution_count": 1,
   "id": "983a31bb",
   "metadata": {},
   "outputs": [],
   "source": [
    "import torch\n",
    "from torch import nn\n",
    "import csv\n",
    "import numpy as np\n",
    "import emoji\n",
    "import pandas as pd\n",
    "import matplotlib.pyplot as plt\n",
    "from sklearn.metrics import confusion_matrix\n",
    "import matplotlib.pyplot as plt\n",
    "%matplotlib inline\n",
    "from tqdm.notebook import tqdm"
   ]
  },
  {
   "cell_type": "markdown",
   "id": "ff53034d",
   "metadata": {},
   "source": [
    "## Device"
   ]
  },
  {
   "cell_type": "code",
   "execution_count": 2,
   "id": "ec6668e0",
   "metadata": {},
   "outputs": [],
   "source": [
    "device = \"cuda\" if torch.cuda.is_available else cpu"
   ]
  },
  {
   "cell_type": "markdown",
   "id": "0afb9043",
   "metadata": {},
   "source": [
    "## Glove File:"
   ]
  },
  {
   "cell_type": "code",
   "execution_count": 3,
   "id": "95d962d3",
   "metadata": {},
   "outputs": [],
   "source": [
    "def glove(glove_file):\n",
    "    with open(glove_file, 'rb') as f:\n",
    "        words = []\n",
    "        word_to_vec_map = {}\n",
    "        for line in f:\n",
    "            line = line.strip().split()\n",
    "            curr_word = line[0]\n",
    "            byte_string = curr_word\n",
    "            curr_word = byte_string.decode('utf-8')\n",
    "            words.append(curr_word)\n",
    "            word_to_vec_map[curr_word] = np.array(line[1:], dtype=np.float64)\n",
    "        \n",
    "        i = 1\n",
    "        words_to_index = {}\n",
    "        index_to_words = {}\n",
    "        for w in sorted(words):\n",
    "            words_to_index[w] = i\n",
    "            index_to_words[i] = w\n",
    "            i = i + 1\n",
    "    return words_to_index, index_to_words, word_to_vec_map"
   ]
  },
  {
   "cell_type": "code",
   "execution_count": 4,
   "id": "96aaf67b",
   "metadata": {},
   "outputs": [],
   "source": [
    "glove_file = r\"C:\\Users\\rahul\\python\\Machine learning\\Data\\glove.6B.50d.txt\"\n",
    "word_to_index, index_to_word, word_to_vec_map = glove(glove_file)"
   ]
  },
  {
   "cell_type": "markdown",
   "id": "7efa2b36",
   "metadata": {},
   "source": [
    "## Emoji Dictionary:"
   ]
  },
  {
   "cell_type": "code",
   "execution_count": 5,
   "id": "f4eae464",
   "metadata": {},
   "outputs": [],
   "source": [
    "emoji_dictionary = {\n",
    "    0:'❤️',\n",
    "    1:'⚾',\n",
    "    2:'😄',\n",
    "    3:'😔',\n",
    "    4:'🍴',\n",
    "}\n",
    "\n",
    "def label_to_emoji(label):\n",
    "    return emoji_dictionary[label]"
   ]
  },
  {
   "cell_type": "code",
   "execution_count": 6,
   "id": "0f0aa450",
   "metadata": {},
   "outputs": [
    {
     "data": {
      "text/plain": [
       "{0: '❤️', 1: '⚾', 2: '😄', 3: '😔', 4: '🍴'}"
      ]
     },
     "execution_count": 6,
     "metadata": {},
     "output_type": "execute_result"
    }
   ],
   "source": [
    "emoji_dictionary"
   ]
  },
  {
   "cell_type": "markdown",
   "id": "622a554f",
   "metadata": {},
   "source": [
    "## Important functions to extract features:"
   ]
  },
  {
   "cell_type": "code",
   "execution_count": 7,
   "id": "abaab5a8",
   "metadata": {},
   "outputs": [],
   "source": [
    "def sentence_to_index(array_word,word_to_index=word_to_index,max_len = 50):\n",
    "    indices = torch.zeros(max_len)\n",
    "    for idx,word in enumerate(array_word.lower().split()):\n",
    "        if word in word_to_index and idx < max_len:\n",
    "            indices[idx] = word_to_index[word]\n",
    "    return indices.long()\n",
    "\n",
    "def pretrained_embedded_layer(word_to_vec_map,word_to_index):\n",
    "    \n",
    "    num_embeddings = len(word_to_vec_map) +1\n",
    "    embedding_dim = len(word_to_vec_map[list(word_to_vec_map.keys())[0]])\n",
    "    \n",
    "    embeddings = torch.zeros(num_embeddings,embedding_dim)\n",
    "    \n",
    "    for word,idx in word_to_index.items():\n",
    "        embeddings[idx,:] = torch.from_numpy(word_to_vec_map[word])\n",
    "        \n",
    "    embedding_layer = nn.Embedding.from_pretrained(embeddings.to(device),freeze=True)\n",
    "    \n",
    "    return embedding_layer"
   ]
  },
  {
   "cell_type": "code",
   "execution_count": 8,
   "id": "75fe5f47",
   "metadata": {},
   "outputs": [],
   "source": [
    "from torch.utils.data import DataLoader,Dataset\n",
    "\n",
    "class Custom_dataset(Dataset):\n",
    "    def __init__(self,sample_dir):\n",
    "        self.sample_dir = sample_dir\n",
    "        self.df = pd.read_csv(sample_dir,names=[\"Sentence\",\"label\"],skiprows=1)\n",
    "        #self.df.columns = [\"Sentence\",\"label\"]\n",
    "        self.df[\"len\"] = self.df.Sentence.apply(self.len_check)\n",
    "        self.max_len = max(self.df.len)\n",
    "        \n",
    "    def __len__(self):\n",
    "        #print(self.df)\n",
    "        return len(self.df)\n",
    "    \n",
    "    def len_check(self,x):\n",
    "        return len(x.split())\n",
    "    \n",
    "    def __getitem__(self,index):\n",
    "        sample = self.df.Sentence.iloc[index]\n",
    "        label = self.df.label.iloc[index]\n",
    "        sample = sentence_to_index(sample,word_to_index,self.max_len)\n",
    "        return sample,label"
   ]
  },
  {
   "cell_type": "markdown",
   "id": "12cff632",
   "metadata": {},
   "source": [
    "## Model:"
   ]
  },
  {
   "cell_type": "code",
   "execution_count": 9,
   "id": "62d83929",
   "metadata": {},
   "outputs": [],
   "source": [
    "class Emojify__Rnn(nn.Module):\n",
    "    def __init__(self,hidden_size,num_layers,bidirectional,word_to_vec_map=word_to_vec_map,word_to_index=word_to_index):\n",
    "        super().__init__()\n",
    "        if bidirectional:\n",
    "            bi_value = 2\n",
    "        else:\n",
    "            bi_value = 1\n",
    "        embedding_layer = pretrained_embedded_layer(word_to_vec_map,word_to_index)\n",
    "        self.embedding_layer = embedding_layer\n",
    "        self.packed_padded_seq = nn.utils.rnn.pack_padded_sequence\n",
    "        self.pad_packed = nn.utils.rnn.pad_packed_sequence\n",
    "        self.lstm1 = nn.LSTM(input_size=50,\n",
    "                            hidden_size=hidden_size,\n",
    "                            batch_first=True,\n",
    "                            num_layers=num_layers,\n",
    "                            bidirectional = bidirectional,\n",
    "                            dropout=0.5)\n",
    "        self.linear1 = nn.Linear(hidden_size,64)\n",
    "        self.dropout = nn.Dropout(p=0.5)\n",
    "        self.linear2 = nn.Linear(64,5)\n",
    "        self.apply(self._init_weights)\n",
    "        \n",
    "    def _init_weights(self, layer):\n",
    "        if isinstance(layer, nn.Linear):\n",
    "            nn.init.xavier_uniform_(layer.weight)\n",
    "            layer.bias.data.fill_(0.01)\n",
    "        if isinstance(layer, nn.LSTM):\n",
    "            for name, param in layer.named_parameters():\n",
    "                if 'weight' in name:\n",
    "                    nn.init.xavier_uniform_(param)\n",
    "                elif 'bias' in name:\n",
    "                    param.data.fill_(0.01)\n",
    "        \n",
    "    \n",
    "    def forward(self,X):\n",
    "        lengths = torch.count_nonzero(X,dim=1).cpu()\n",
    "        total_length = X.size(-1)\n",
    "        X = self.embedding_layer(X)\n",
    "        X = self.packed_padded_seq(input=X,lengths=lengths,batch_first=True,enforce_sorted=False)\n",
    "        X,_ = self.lstm1(X)\n",
    "        X,_ = self.pad_packed(X,batch_first=True,padding_value = 0,total_length = total_length )\n",
    "        X = X[torch.arange(X.size(0)), lengths - 1, :]\n",
    "        X = self.linear1(X)\n",
    "        X = self.dropout(X)\n",
    "        X = self.linear2(X)\n",
    "        \n",
    "        return X"
   ]
  },
  {
   "cell_type": "code",
   "execution_count": 10,
   "id": "57b08688",
   "metadata": {},
   "outputs": [],
   "source": [
    "model = Emojify__Rnn(128,2,False,word_to_vec_map,word_to_index).to(device)"
   ]
  },
  {
   "cell_type": "markdown",
   "id": "ca2185bf",
   "metadata": {},
   "source": [
    "## Sample dir :"
   ]
  },
  {
   "cell_type": "code",
   "execution_count": 11,
   "id": "8a892a4e",
   "metadata": {},
   "outputs": [],
   "source": [
    "train_sample_dir = r\"C:\\Users\\rahul\\python\\Machine learning\\Data\\train_emoji.csv\"\n",
    "test_sample_dir = r\"C:\\Users\\rahul\\python\\Machine learning\\Data\\test_emoji.csv\" "
   ]
  },
  {
   "cell_type": "code",
   "execution_count": 12,
   "id": "81944938",
   "metadata": {},
   "outputs": [],
   "source": [
    "train_dataset = Custom_dataset(train_sample_dir)\n",
    "train_dataLoader = DataLoader(dataset=train_dataset,batch_size=16,shuffle=False)\n",
    "\n",
    "test_dataset = Custom_dataset(test_sample_dir)\n",
    "test_dataloader = DataLoader(dataset=test_dataset,batch_size=16,shuffle=False)"
   ]
  },
  {
   "cell_type": "markdown",
   "id": "56c386c9",
   "metadata": {},
   "source": [
    "## Loss and optimizer :"
   ]
  },
  {
   "cell_type": "code",
   "execution_count": 13,
   "id": "baa54c94",
   "metadata": {},
   "outputs": [],
   "source": [
    "loss_fn = nn.CrossEntropyLoss()\n",
    "optimizer = torch.optim.Adam(model.parameters(),lr=0.001,weight_decay=0.01)"
   ]
  },
  {
   "cell_type": "markdown",
   "id": "09602e43",
   "metadata": {},
   "source": [
    "## Training and Testing:"
   ]
  },
  {
   "cell_type": "code",
   "execution_count": 14,
   "id": "68f0b9ef",
   "metadata": {},
   "outputs": [],
   "source": [
    "def train_step(model,dataloader,loss_fn,optimizer,device):\n",
    "    model.train()\n",
    "    \n",
    "    total_loss = 0\n",
    "    total_acc = 0\n",
    "    \n",
    "    for sentence,label in (dataloader):\n",
    "        sentence = sentence.to(device)\n",
    "        label = label.to(device)\n",
    "        \n",
    "        # forward pass :\n",
    "        logits = model(sentence)\n",
    "        label_pred = nn.Softmax(dim=1)(logits)\n",
    "        \n",
    "        # loss & Accuracy :\n",
    "        loss = loss_fn(logits,label)\n",
    "        acc = (label_pred.argmax(dim=1) == label).sum().item()/(label.size(0))\n",
    "        \n",
    "        total_loss += loss\n",
    "        total_acc += acc\n",
    "        \n",
    "        # optimizer zero grad:\n",
    "        optimizer.zero_grad()\n",
    "        \n",
    "        # backward pass:\n",
    "        loss.backward()\n",
    "        \n",
    "        # optimizer step:\n",
    "        optimizer.step()\n",
    "        \n",
    "    total_loss /= len(dataloader)\n",
    "    total_acc /= len(dataloader)\n",
    "    \n",
    "    return total_loss,total_acc"
   ]
  },
  {
   "cell_type": "code",
   "execution_count": 15,
   "id": "8e02ef9a",
   "metadata": {},
   "outputs": [],
   "source": [
    "def test_step(model,dataloader,loss_fn,device):\n",
    "    model.eval()\n",
    "    \n",
    "    total_loss = 0\n",
    "    total_acc = 0\n",
    "    \n",
    "    for sentence,label in dataloader:\n",
    "        sentence,label = sentence.to(device),label.to(device)\n",
    "        \n",
    "        # forward pass:\n",
    "        logits = model(sentence)\n",
    "        label_pred = nn.Softmax(dim=1)(logits)\n",
    "        \n",
    "        # loss & accuracy:\n",
    "        loss = loss_fn(logits,label)\n",
    "        acc = (label_pred.argmax(dim=1) == label).sum().item()/(label.size(0))\n",
    "        \n",
    "        total_loss += loss\n",
    "        total_acc += acc\n",
    "    \n",
    "    total_loss /= len(dataloader)\n",
    "    total_acc /= len(dataloader)\n",
    "    \n",
    "    return total_loss,total_acc"
   ]
  },
  {
   "cell_type": "code",
   "execution_count": 16,
   "id": "99b9e16f",
   "metadata": {},
   "outputs": [
    {
     "data": {
      "application/vnd.jupyter.widget-view+json": {
       "model_id": "1347fcc634a449e596d46abdf5426662",
       "version_major": 2,
       "version_minor": 0
      },
      "text/plain": [
       "  0%|          | 0/50 [00:00<?, ?it/s]"
      ]
     },
     "metadata": {},
     "output_type": "display_data"
    },
    {
     "name": "stdout",
     "output_type": "stream",
     "text": [
      "Epoch__ 0\n",
      "Train Loss: 1.56 | Train Accuracy : 0.32\n",
      "Validation Loss: 1.49 | Validation Accuracy : 0.33\n",
      "\n",
      "Epoch__ 10\n",
      "Train Loss: 0.65 | Train Accuracy : 0.78\n",
      "Validation Loss: 1.00 | Validation Accuracy : 0.54\n",
      "\n",
      "Epoch__ 20\n",
      "Train Loss: 0.37 | Train Accuracy : 0.88\n",
      "Validation Loss: 0.89 | Validation Accuracy : 0.67\n",
      "\n",
      "Epoch__ 30\n",
      "Train Loss: 0.31 | Train Accuracy : 0.90\n",
      "Validation Loss: 0.93 | Validation Accuracy : 0.72\n",
      "\n",
      "Epoch__ 40\n",
      "Train Loss: 0.21 | Train Accuracy : 0.95\n",
      "Validation Loss: 1.03 | Validation Accuracy : 0.71\n",
      "\n"
     ]
    }
   ],
   "source": [
    "Epoch = 50\n",
    "train_loss_list = []\n",
    "train_acc_list = []\n",
    "\n",
    "test_loss_list = []\n",
    "test_acc_list = []\n",
    "for epoch in tqdm(range(Epoch)):\n",
    "    train_loss,train_acc = train_step(model,train_dataLoader,loss_fn,optimizer,device)\n",
    "    train_loss_list.append(train_loss.item())\n",
    "    train_acc_list.append(train_acc)\n",
    "    test_loss,test_acc = test_step(model,test_dataloader,loss_fn,device)\n",
    "    test_loss_list.append(test_loss.item())\n",
    "    test_acc_list.append(test_acc)\n",
    "    if epoch % 10 ==0:\n",
    "        print(f\"Epoch__ {epoch}\")\n",
    "        print(f\"Train Loss: {train_loss:.2f} | Train Accuracy : {train_acc:.2f}\")\n",
    "        print(f\"Validation Loss: {test_loss:.2f} | Validation Accuracy : {test_acc:.2f}\")\n",
    "        print() "
   ]
  },
  {
   "cell_type": "markdown",
   "id": "53c5d937",
   "metadata": {},
   "source": [
    "## Loss & Accuracy plot:"
   ]
  },
  {
   "cell_type": "code",
   "execution_count": 17,
   "id": "2b449a48",
   "metadata": {},
   "outputs": [
    {
     "data": {
      "image/png": "[encoded data removed]",
      "text/plain": [
       "<Figure size 640x480 with 2 Axes>"
      ]
     },
     "metadata": {},
     "output_type": "display_data"
    }
   ],
   "source": [
    "plt.subplot(2,1,1)\n",
    "plt.title(\"Loss\")\n",
    "plt.plot(range(Epoch),train_loss_list,label = \"Train loss\")\n",
    "plt.plot(range(Epoch),test_loss_list, label = \"Validation loss\")\n",
    "\n",
    "\n",
    "plt.subplot(2,1,2)\n",
    "plt.title(\"Accuracy\")\n",
    "plt.plot(range(Epoch),train_acc_list,label = \"Train Accuracy\")\n",
    "plt.plot(range(Epoch),test_acc_list, label = \"Validation Accuracy\") \n",
    "\n",
    "plt.tight_layout()"
   ]
  },
  {
   "cell_type": "markdown",
   "id": "82aec95b",
   "metadata": {},
   "source": [
    "lan = input()\n",
    "X = sentence_to_index(lan,word_to_index,10)\n",
    "logits = model(X.unsqueeze(0).to(device))\n",
    "pred = torch.round(nn.Softmax(dim=1)(logits)).detach()\n",
    "label_to_emoji(pred.argmax(dim=1).item())"
   ]
  },
  {
   "cell_type": "code",
   "execution_count": 18,
   "id": "75355c43",
   "metadata": {},
   "outputs": [],
   "source": [
    "test_df = pd.read_csv(test_sample_dir,names=[\"sentence\",\"label\"])\n",
    "train_df = pd.read_csv(train_sample_dir,names=[\"sentence\",\"label\"])"
   ]
  },
  {
   "cell_type": "code",
   "execution_count": 19,
   "id": "708fa415",
   "metadata": {},
   "outputs": [],
   "source": [
    "def match_check(model,test_df,device,label_to_emoji=label_to_emoji):\n",
    "    prediction = []\n",
    "    for line in test_df.sentence:\n",
    "        X = sentence_to_index(line,word_to_index,10)\n",
    "        logits = model(X.unsqueeze(0).to(device))\n",
    "        pred = torch.round(nn.Softmax(dim=1)(logits)).detach()\n",
    "        prediction.append(pred.argmax(dim=1).item())\n",
    "        label_to_emoji(pred.argmax(dim=1).item())\n",
    "\n",
    "    actual_emoji =[]\n",
    "    for label in test_df.label:\n",
    "        actual_emoji.append(label_to_emoji(label))\n",
    "    test_df[\"actual_emoji\"] = actual_emoji\n",
    "\n",
    "    prediction = np.array(prediction)\n",
    "    test_df[\"prediction\"] = prediction\n",
    "\n",
    "    pred_emoji = []\n",
    "    for pred in prediction:\n",
    "        pred_emoji.append(label_to_emoji(pred))\n",
    "\n",
    "    test_df[\"pred_emoji\"] = pred_emoji\n",
    "\n",
    "    return test_df[test_df.label != test_df.prediction][[\"sentence\",\"actual_emoji\",\"pred_emoji\"]]"
   ]
  },
  {
   "cell_type": "code",
   "execution_count": 20,
   "id": "ced08e94",
   "metadata": {},
   "outputs": [
    {
     "data": {
      "text/html": [
       "<div>\n",
       "<style scoped>\n",
       "    .dataframe tbody tr th:only-of-type {\n",
       "        vertical-align: middle;\n",
       "    }\n",
       "\n",
       "    .dataframe tbody tr th {\n",
       "        vertical-align: top;\n",
       "    }\n",
       "\n",
       "    .dataframe thead th {\n",
       "        text-align: right;\n",
       "    }\n",
       "</style>\n",
       "<table border=\"1\" class=\"dataframe\">\n",
       "  <thead>\n",
       "    <tr style=\"text-align: right;\">\n",
       "      <th></th>\n",
       "      <th>sentence</th>\n",
       "      <th>actual_emoji</th>\n",
       "      <th>pred_emoji</th>\n",
       "    </tr>\n",
       "  </thead>\n",
       "  <tbody>\n",
       "    <tr>\n",
       "      <th>2</th>\n",
       "      <td>he got a raise\\t</td>\n",
       "      <td>😄</td>\n",
       "      <td>❤️</td>\n",
       "    </tr>\n",
       "    <tr>\n",
       "      <th>7</th>\n",
       "      <td>We had such a lovely dinner tonight\\t</td>\n",
       "      <td>❤️</td>\n",
       "      <td>😄</td>\n",
       "    </tr>\n",
       "    <tr>\n",
       "      <th>11</th>\n",
       "      <td>work is hard\\t</td>\n",
       "      <td>😔</td>\n",
       "      <td>😄</td>\n",
       "    </tr>\n",
       "    <tr>\n",
       "      <th>12</th>\n",
       "      <td>This girl is messing with me\\t</td>\n",
       "      <td>😔</td>\n",
       "      <td>❤️</td>\n",
       "    </tr>\n",
       "    <tr>\n",
       "      <th>13</th>\n",
       "      <td>are you serious ha ha\\t</td>\n",
       "      <td>😄</td>\n",
       "      <td>😔</td>\n",
       "    </tr>\n",
       "    <tr>\n",
       "      <th>16</th>\n",
       "      <td>work is horrible\\t</td>\n",
       "      <td>😔</td>\n",
       "      <td>😄</td>\n",
       "    </tr>\n",
       "    <tr>\n",
       "      <th>19</th>\n",
       "      <td>any suggestions for dinner\\t</td>\n",
       "      <td>🍴</td>\n",
       "      <td>😄</td>\n",
       "    </tr>\n",
       "    <tr>\n",
       "      <th>21</th>\n",
       "      <td>you brighten my day\\t</td>\n",
       "      <td>😄</td>\n",
       "      <td>❤️</td>\n",
       "    </tr>\n",
       "    <tr>\n",
       "      <th>26</th>\n",
       "      <td>I worked during my birthday\\t</td>\n",
       "      <td>😔</td>\n",
       "      <td>😄</td>\n",
       "    </tr>\n",
       "    <tr>\n",
       "      <th>28</th>\n",
       "      <td>enjoy your break\\t</td>\n",
       "      <td>😄</td>\n",
       "      <td>❤️</td>\n",
       "    </tr>\n",
       "    <tr>\n",
       "      <th>29</th>\n",
       "      <td>valentine day is near\\t</td>\n",
       "      <td>❤️</td>\n",
       "      <td>😄</td>\n",
       "    </tr>\n",
       "    <tr>\n",
       "      <th>37</th>\n",
       "      <td>I am starving\\t</td>\n",
       "      <td>🍴</td>\n",
       "      <td>😔</td>\n",
       "    </tr>\n",
       "    <tr>\n",
       "      <th>39</th>\n",
       "      <td>I like to laugh\\t</td>\n",
       "      <td>😄</td>\n",
       "      <td>❤️</td>\n",
       "    </tr>\n",
       "    <tr>\n",
       "      <th>40</th>\n",
       "      <td>I will go dance</td>\n",
       "      <td>😄</td>\n",
       "      <td>⚾</td>\n",
       "    </tr>\n",
       "    <tr>\n",
       "      <th>41</th>\n",
       "      <td>I like your jacket \\t</td>\n",
       "      <td>😄</td>\n",
       "      <td>❤️</td>\n",
       "    </tr>\n",
       "    <tr>\n",
       "      <th>48</th>\n",
       "      <td>I want to joke\\t</td>\n",
       "      <td>😄</td>\n",
       "      <td>😔</td>\n",
       "    </tr>\n",
       "    <tr>\n",
       "      <th>49</th>\n",
       "      <td>go away\\t</td>\n",
       "      <td>😔</td>\n",
       "      <td>❤️</td>\n",
       "    </tr>\n",
       "  </tbody>\n",
       "</table>\n",
       "</div>"
      ],
      "text/plain": [
       "                                 sentence actual_emoji pred_emoji\n",
       "2                        he got a raise\\t            😄         ❤️\n",
       "7   We had such a lovely dinner tonight\\t           ❤️          😄\n",
       "11                         work is hard\\t            😔          😄\n",
       "12         This girl is messing with me\\t            😔         ❤️\n",
       "13                are you serious ha ha\\t            😄          😔\n",
       "16                     work is horrible\\t            😔          😄\n",
       "19           any suggestions for dinner\\t            🍴          😄\n",
       "21                  you brighten my day\\t            😄         ❤️\n",
       "26          I worked during my birthday\\t            😔          😄\n",
       "28                     enjoy your break\\t            😄         ❤️\n",
       "29                valentine day is near\\t           ❤️          😄\n",
       "37                        I am starving\\t            🍴          😔\n",
       "39                      I like to laugh\\t            😄         ❤️\n",
       "40                        I will go dance            😄          ⚾\n",
       "41                  I like your jacket \\t            😄         ❤️\n",
       "48                       I want to joke\\t            😄          😔\n",
       "49                              go away\\t            😔         ❤️"
      ]
     },
     "execution_count": 20,
     "metadata": {},
     "output_type": "execute_result"
    }
   ],
   "source": [
    "match_check(model,test_df,device)"
   ]
  }
 ],
 "metadata": {
  "kernelspec": {
   "display_name": "tf",
   "language": "python",
   "name": "tf"
  },
  "language_info": {
   "codemirror_mode": {
    "name": "ipython",
    "version": 3
   },
   "file_extension": ".py",
   "mimetype": "text/x-python",
   "name": "python",
   "nbconvert_exporter": "python",
   "pygments_lexer": "ipython3",
   "version": "3.9.16"
  }
 },
 "nbformat": 4,
 "nbformat_minor": 5
}
