{
 "cells": [
  {
   "cell_type": "code",
   "execution_count": 1,
   "id": "2ce9f675",
   "metadata": {},
   "outputs": [],
   "source": [
    "import numpy as np\n",
    "import pandas as pd \n",
    "import matplotlib.pyplot as plt\n",
    "%matplotlib inline\n",
    "import seaborn as sns\n",
    "sns.set_style(\"darkgrid\")"
   ]
  },
  {
   "cell_type": "markdown",
   "id": "292fa1d3",
   "metadata": {},
   "source": [
    "## Data loading"
   ]
  },
  {
   "cell_type": "code",
   "execution_count": 2,
   "id": "7a031bf8",
   "metadata": {},
   "outputs": [
    {
     "data": {
      "text/html": [
       "<div>\n",
       "<style scoped>\n",
       "    .dataframe tbody tr th:only-of-type {\n",
       "        vertical-align: middle;\n",
       "    }\n",
       "\n",
       "    .dataframe tbody tr th {\n",
       "        vertical-align: top;\n",
       "    }\n",
       "\n",
       "    .dataframe thead th {\n",
       "        text-align: right;\n",
       "    }\n",
       "</style>\n",
       "<table border=\"1\" class=\"dataframe\">\n",
       "  <thead>\n",
       "    <tr style=\"text-align: right;\">\n",
       "      <th></th>\n",
       "      <th>area_type</th>\n",
       "      <th>availability</th>\n",
       "      <th>location</th>\n",
       "      <th>size</th>\n",
       "      <th>society</th>\n",
       "      <th>total_sqft</th>\n",
       "      <th>bath</th>\n",
       "      <th>balcony</th>\n",
       "      <th>price</th>\n",
       "    </tr>\n",
       "  </thead>\n",
       "  <tbody>\n",
       "    <tr>\n",
       "      <th>0</th>\n",
       "      <td>Super built-up  Area</td>\n",
       "      <td>19-Dec</td>\n",
       "      <td>Electronic City Phase II</td>\n",
       "      <td>2 BHK</td>\n",
       "      <td>Coomee</td>\n",
       "      <td>1056</td>\n",
       "      <td>2.0</td>\n",
       "      <td>1.0</td>\n",
       "      <td>39.07</td>\n",
       "    </tr>\n",
       "    <tr>\n",
       "      <th>1</th>\n",
       "      <td>Plot  Area</td>\n",
       "      <td>Ready To Move</td>\n",
       "      <td>Chikka Tirupathi</td>\n",
       "      <td>4 Bedroom</td>\n",
       "      <td>Theanmp</td>\n",
       "      <td>2600</td>\n",
       "      <td>5.0</td>\n",
       "      <td>3.0</td>\n",
       "      <td>120.00</td>\n",
       "    </tr>\n",
       "    <tr>\n",
       "      <th>2</th>\n",
       "      <td>Built-up  Area</td>\n",
       "      <td>Ready To Move</td>\n",
       "      <td>Uttarahalli</td>\n",
       "      <td>3 BHK</td>\n",
       "      <td>NaN</td>\n",
       "      <td>1440</td>\n",
       "      <td>2.0</td>\n",
       "      <td>3.0</td>\n",
       "      <td>62.00</td>\n",
       "    </tr>\n",
       "    <tr>\n",
       "      <th>3</th>\n",
       "      <td>Super built-up  Area</td>\n",
       "      <td>Ready To Move</td>\n",
       "      <td>Lingadheeranahalli</td>\n",
       "      <td>3 BHK</td>\n",
       "      <td>Soiewre</td>\n",
       "      <td>1521</td>\n",
       "      <td>3.0</td>\n",
       "      <td>1.0</td>\n",
       "      <td>95.00</td>\n",
       "    </tr>\n",
       "    <tr>\n",
       "      <th>4</th>\n",
       "      <td>Super built-up  Area</td>\n",
       "      <td>Ready To Move</td>\n",
       "      <td>Kothanur</td>\n",
       "      <td>2 BHK</td>\n",
       "      <td>NaN</td>\n",
       "      <td>1200</td>\n",
       "      <td>2.0</td>\n",
       "      <td>1.0</td>\n",
       "      <td>51.00</td>\n",
       "    </tr>\n",
       "  </tbody>\n",
       "</table>\n",
       "</div>"
      ],
      "text/plain": [
       "              area_type   availability                  location       size  \\\n",
       "0  Super built-up  Area         19-Dec  Electronic City Phase II      2 BHK   \n",
       "1            Plot  Area  Ready To Move          Chikka Tirupathi  4 Bedroom   \n",
       "2        Built-up  Area  Ready To Move               Uttarahalli      3 BHK   \n",
       "3  Super built-up  Area  Ready To Move        Lingadheeranahalli      3 BHK   \n",
       "4  Super built-up  Area  Ready To Move                  Kothanur      2 BHK   \n",
       "\n",
       "   society total_sqft  bath  balcony   price  \n",
       "0  Coomee        1056   2.0      1.0   39.07  \n",
       "1  Theanmp       2600   5.0      3.0  120.00  \n",
       "2      NaN       1440   2.0      3.0   62.00  \n",
       "3  Soiewre       1521   3.0      1.0   95.00  \n",
       "4      NaN       1200   2.0      1.0   51.00  "
      ]
     },
     "execution_count": 2,
     "metadata": {},
     "output_type": "execute_result"
    }
   ],
   "source": [
    "df1 = pd.read_csv(\"Bengaluru_House_Data.csv\")\n",
    "df1.head()"
   ]
  },
  {
   "cell_type": "markdown",
   "id": "20886961",
   "metadata": {},
   "source": [
    "## Data Cleaning"
   ]
  },
  {
   "cell_type": "code",
   "execution_count": 3,
   "id": "39f96490",
   "metadata": {},
   "outputs": [
    {
     "data": {
      "text/plain": [
       "(13320, 9)"
      ]
     },
     "execution_count": 3,
     "metadata": {},
     "output_type": "execute_result"
    }
   ],
   "source": [
    "df1.shape"
   ]
  },
  {
   "cell_type": "code",
   "execution_count": 4,
   "id": "886718c5",
   "metadata": {},
   "outputs": [
    {
     "name": "stdout",
     "output_type": "stream",
     "text": [
      "<class 'pandas.core.frame.DataFrame'>\n",
      "RangeIndex: 13320 entries, 0 to 13319\n",
      "Data columns (total 9 columns):\n",
      " #   Column        Non-Null Count  Dtype  \n",
      "---  ------        --------------  -----  \n",
      " 0   area_type     13320 non-null  object \n",
      " 1   availability  13320 non-null  object \n",
      " 2   location      13319 non-null  object \n",
      " 3   size          13304 non-null  object \n",
      " 4   society       7818 non-null   object \n",
      " 5   total_sqft    13320 non-null  object \n",
      " 6   bath          13247 non-null  float64\n",
      " 7   balcony       12711 non-null  float64\n",
      " 8   price         13320 non-null  float64\n",
      "dtypes: float64(3), object(6)\n",
      "memory usage: 936.7+ KB\n"
     ]
    }
   ],
   "source": [
    "df1.info()"
   ]
  },
  {
   "cell_type": "code",
   "execution_count": 5,
   "id": "fc9bcb51",
   "metadata": {},
   "outputs": [
    {
     "data": {
      "text/html": [
       "<div>\n",
       "<style scoped>\n",
       "    .dataframe tbody tr th:only-of-type {\n",
       "        vertical-align: middle;\n",
       "    }\n",
       "\n",
       "    .dataframe tbody tr th {\n",
       "        vertical-align: top;\n",
       "    }\n",
       "\n",
       "    .dataframe thead th {\n",
       "        text-align: right;\n",
       "    }\n",
       "</style>\n",
       "<table border=\"1\" class=\"dataframe\">\n",
       "  <thead>\n",
       "    <tr style=\"text-align: right;\">\n",
       "      <th></th>\n",
       "      <th>bath</th>\n",
       "      <th>balcony</th>\n",
       "      <th>price</th>\n",
       "    </tr>\n",
       "  </thead>\n",
       "  <tbody>\n",
       "    <tr>\n",
       "      <th>count</th>\n",
       "      <td>13247.000000</td>\n",
       "      <td>12711.000000</td>\n",
       "      <td>13320.000000</td>\n",
       "    </tr>\n",
       "    <tr>\n",
       "      <th>mean</th>\n",
       "      <td>2.692610</td>\n",
       "      <td>1.584376</td>\n",
       "      <td>112.565627</td>\n",
       "    </tr>\n",
       "    <tr>\n",
       "      <th>std</th>\n",
       "      <td>1.341458</td>\n",
       "      <td>0.817263</td>\n",
       "      <td>148.971674</td>\n",
       "    </tr>\n",
       "    <tr>\n",
       "      <th>min</th>\n",
       "      <td>1.000000</td>\n",
       "      <td>0.000000</td>\n",
       "      <td>8.000000</td>\n",
       "    </tr>\n",
       "    <tr>\n",
       "      <th>25%</th>\n",
       "      <td>2.000000</td>\n",
       "      <td>1.000000</td>\n",
       "      <td>50.000000</td>\n",
       "    </tr>\n",
       "    <tr>\n",
       "      <th>50%</th>\n",
       "      <td>2.000000</td>\n",
       "      <td>2.000000</td>\n",
       "      <td>72.000000</td>\n",
       "    </tr>\n",
       "    <tr>\n",
       "      <th>75%</th>\n",
       "      <td>3.000000</td>\n",
       "      <td>2.000000</td>\n",
       "      <td>120.000000</td>\n",
       "    </tr>\n",
       "    <tr>\n",
       "      <th>max</th>\n",
       "      <td>40.000000</td>\n",
       "      <td>3.000000</td>\n",
       "      <td>3600.000000</td>\n",
       "    </tr>\n",
       "  </tbody>\n",
       "</table>\n",
       "</div>"
      ],
      "text/plain": [
       "               bath       balcony         price\n",
       "count  13247.000000  12711.000000  13320.000000\n",
       "mean       2.692610      1.584376    112.565627\n",
       "std        1.341458      0.817263    148.971674\n",
       "min        1.000000      0.000000      8.000000\n",
       "25%        2.000000      1.000000     50.000000\n",
       "50%        2.000000      2.000000     72.000000\n",
       "75%        3.000000      2.000000    120.000000\n",
       "max       40.000000      3.000000   3600.000000"
      ]
     },
     "execution_count": 5,
     "metadata": {},
     "output_type": "execute_result"
    }
   ],
   "source": [
    "df1.describe()"
   ]
  },
  {
   "cell_type": "markdown",
   "id": "06b1fa69",
   "metadata": {},
   "source": [
    "### Drop Some columns:"
   ]
  },
  {
   "cell_type": "code",
   "execution_count": 6,
   "id": "25db0ef7",
   "metadata": {},
   "outputs": [
    {
     "data": {
      "text/html": [
       "<div>\n",
       "<style scoped>\n",
       "    .dataframe tbody tr th:only-of-type {\n",
       "        vertical-align: middle;\n",
       "    }\n",
       "\n",
       "    .dataframe tbody tr th {\n",
       "        vertical-align: top;\n",
       "    }\n",
       "\n",
       "    .dataframe thead th {\n",
       "        text-align: right;\n",
       "    }\n",
       "</style>\n",
       "<table border=\"1\" class=\"dataframe\">\n",
       "  <thead>\n",
       "    <tr style=\"text-align: right;\">\n",
       "      <th></th>\n",
       "      <th>location</th>\n",
       "      <th>size</th>\n",
       "      <th>total_sqft</th>\n",
       "      <th>bath</th>\n",
       "      <th>price</th>\n",
       "    </tr>\n",
       "  </thead>\n",
       "  <tbody>\n",
       "    <tr>\n",
       "      <th>0</th>\n",
       "      <td>Electronic City Phase II</td>\n",
       "      <td>2 BHK</td>\n",
       "      <td>1056</td>\n",
       "      <td>2.0</td>\n",
       "      <td>39.07</td>\n",
       "    </tr>\n",
       "    <tr>\n",
       "      <th>1</th>\n",
       "      <td>Chikka Tirupathi</td>\n",
       "      <td>4 Bedroom</td>\n",
       "      <td>2600</td>\n",
       "      <td>5.0</td>\n",
       "      <td>120.00</td>\n",
       "    </tr>\n",
       "    <tr>\n",
       "      <th>2</th>\n",
       "      <td>Uttarahalli</td>\n",
       "      <td>3 BHK</td>\n",
       "      <td>1440</td>\n",
       "      <td>2.0</td>\n",
       "      <td>62.00</td>\n",
       "    </tr>\n",
       "    <tr>\n",
       "      <th>3</th>\n",
       "      <td>Lingadheeranahalli</td>\n",
       "      <td>3 BHK</td>\n",
       "      <td>1521</td>\n",
       "      <td>3.0</td>\n",
       "      <td>95.00</td>\n",
       "    </tr>\n",
       "    <tr>\n",
       "      <th>4</th>\n",
       "      <td>Kothanur</td>\n",
       "      <td>2 BHK</td>\n",
       "      <td>1200</td>\n",
       "      <td>2.0</td>\n",
       "      <td>51.00</td>\n",
       "    </tr>\n",
       "  </tbody>\n",
       "</table>\n",
       "</div>"
      ],
      "text/plain": [
       "                   location       size total_sqft  bath   price\n",
       "0  Electronic City Phase II      2 BHK       1056   2.0   39.07\n",
       "1          Chikka Tirupathi  4 Bedroom       2600   5.0  120.00\n",
       "2               Uttarahalli      3 BHK       1440   2.0   62.00\n",
       "3        Lingadheeranahalli      3 BHK       1521   3.0   95.00\n",
       "4                  Kothanur      2 BHK       1200   2.0   51.00"
      ]
     },
     "execution_count": 6,
     "metadata": {},
     "output_type": "execute_result"
    }
   ],
   "source": [
    "df2 = df1.drop([\"area_type\",\"availability\",\"balcony\",\"society\"],axis=1)\n",
    "df2.head()"
   ]
  },
  {
   "cell_type": "code",
   "execution_count": 7,
   "id": "56fdc2c0",
   "metadata": {},
   "outputs": [
    {
     "data": {
      "text/plain": [
       "location       1\n",
       "size          16\n",
       "total_sqft     0\n",
       "bath          73\n",
       "price          0\n",
       "dtype: int64"
      ]
     },
     "execution_count": 7,
     "metadata": {},
     "output_type": "execute_result"
    }
   ],
   "source": [
    "df2.isnull().sum()"
   ]
  },
  {
   "cell_type": "code",
   "execution_count": 8,
   "id": "acc5e51b",
   "metadata": {},
   "outputs": [
    {
     "data": {
      "text/plain": [
       "location      0\n",
       "size          0\n",
       "total_sqft    0\n",
       "bath          0\n",
       "price         0\n",
       "dtype: int64"
      ]
     },
     "execution_count": 8,
     "metadata": {},
     "output_type": "execute_result"
    }
   ],
   "source": [
    "df3 = df2.dropna()\n",
    "df3.isnull().sum()"
   ]
  },
  {
   "cell_type": "markdown",
   "id": "6f7ba24c",
   "metadata": {},
   "source": [
    "### size column processing:"
   ]
  },
  {
   "cell_type": "code",
   "execution_count": 9,
   "id": "d9574923",
   "metadata": {},
   "outputs": [
    {
     "data": {
      "text/plain": [
       "array(['2 BHK', '4 Bedroom', '3 BHK', '4 BHK', '6 Bedroom', '3 Bedroom',\n",
       "       '1 BHK', '1 RK', '1 Bedroom', '8 Bedroom', '2 Bedroom',\n",
       "       '7 Bedroom', '5 BHK', '7 BHK', '6 BHK', '5 Bedroom', '11 BHK',\n",
       "       '9 BHK', '9 Bedroom', '27 BHK', '10 Bedroom', '11 Bedroom',\n",
       "       '10 BHK', '19 BHK', '16 BHK', '43 Bedroom', '14 BHK', '8 BHK',\n",
       "       '12 Bedroom', '13 BHK', '18 Bedroom'], dtype=object)"
      ]
     },
     "execution_count": 9,
     "metadata": {},
     "output_type": "execute_result"
    }
   ],
   "source": [
    "df3[\"size\"].unique()"
   ]
  },
  {
   "cell_type": "code",
   "execution_count": 10,
   "id": "9b598827",
   "metadata": {},
   "outputs": [
    {
     "name": "stderr",
     "output_type": "stream",
     "text": [
      "C:\\Users\\rahul\\AppData\\Local\\Temp\\ipykernel_7344\\242018705.py:1: SettingWithCopyWarning: \n",
      "A value is trying to be set on a copy of a slice from a DataFrame.\n",
      "Try using .loc[row_indexer,col_indexer] = value instead\n",
      "\n",
      "See the caveats in the documentation: https://pandas.pydata.org/pandas-docs/stable/user_guide/indexing.html#returning-a-view-versus-a-copy\n",
      "  df3[\"BHK\"] = df3[\"size\"].apply(lambda x: int(x.split(\" \")[0]))\n"
     ]
    }
   ],
   "source": [
    "df3[\"BHK\"] = df3[\"size\"].apply(lambda x: int(x.split(\" \")[0]))"
   ]
  },
  {
   "cell_type": "code",
   "execution_count": 11,
   "id": "df7bfa41",
   "metadata": {},
   "outputs": [
    {
     "data": {
      "text/html": [
       "<div>\n",
       "<style scoped>\n",
       "    .dataframe tbody tr th:only-of-type {\n",
       "        vertical-align: middle;\n",
       "    }\n",
       "\n",
       "    .dataframe tbody tr th {\n",
       "        vertical-align: top;\n",
       "    }\n",
       "\n",
       "    .dataframe thead th {\n",
       "        text-align: right;\n",
       "    }\n",
       "</style>\n",
       "<table border=\"1\" class=\"dataframe\">\n",
       "  <thead>\n",
       "    <tr style=\"text-align: right;\">\n",
       "      <th></th>\n",
       "      <th>location</th>\n",
       "      <th>size</th>\n",
       "      <th>total_sqft</th>\n",
       "      <th>bath</th>\n",
       "      <th>price</th>\n",
       "      <th>BHK</th>\n",
       "    </tr>\n",
       "  </thead>\n",
       "  <tbody>\n",
       "    <tr>\n",
       "      <th>0</th>\n",
       "      <td>Electronic City Phase II</td>\n",
       "      <td>2 BHK</td>\n",
       "      <td>1056</td>\n",
       "      <td>2.0</td>\n",
       "      <td>39.07</td>\n",
       "      <td>2</td>\n",
       "    </tr>\n",
       "    <tr>\n",
       "      <th>1</th>\n",
       "      <td>Chikka Tirupathi</td>\n",
       "      <td>4 Bedroom</td>\n",
       "      <td>2600</td>\n",
       "      <td>5.0</td>\n",
       "      <td>120.00</td>\n",
       "      <td>4</td>\n",
       "    </tr>\n",
       "    <tr>\n",
       "      <th>2</th>\n",
       "      <td>Uttarahalli</td>\n",
       "      <td>3 BHK</td>\n",
       "      <td>1440</td>\n",
       "      <td>2.0</td>\n",
       "      <td>62.00</td>\n",
       "      <td>3</td>\n",
       "    </tr>\n",
       "    <tr>\n",
       "      <th>3</th>\n",
       "      <td>Lingadheeranahalli</td>\n",
       "      <td>3 BHK</td>\n",
       "      <td>1521</td>\n",
       "      <td>3.0</td>\n",
       "      <td>95.00</td>\n",
       "      <td>3</td>\n",
       "    </tr>\n",
       "    <tr>\n",
       "      <th>4</th>\n",
       "      <td>Kothanur</td>\n",
       "      <td>2 BHK</td>\n",
       "      <td>1200</td>\n",
       "      <td>2.0</td>\n",
       "      <td>51.00</td>\n",
       "      <td>2</td>\n",
       "    </tr>\n",
       "  </tbody>\n",
       "</table>\n",
       "</div>"
      ],
      "text/plain": [
       "                   location       size total_sqft  bath   price  BHK\n",
       "0  Electronic City Phase II      2 BHK       1056   2.0   39.07    2\n",
       "1          Chikka Tirupathi  4 Bedroom       2600   5.0  120.00    4\n",
       "2               Uttarahalli      3 BHK       1440   2.0   62.00    3\n",
       "3        Lingadheeranahalli      3 BHK       1521   3.0   95.00    3\n",
       "4                  Kothanur      2 BHK       1200   2.0   51.00    2"
      ]
     },
     "execution_count": 11,
     "metadata": {},
     "output_type": "execute_result"
    }
   ],
   "source": [
    "df3.head()"
   ]
  },
  {
   "cell_type": "code",
   "execution_count": 12,
   "id": "1676362b",
   "metadata": {},
   "outputs": [
    {
     "data": {
      "text/plain": [
       "<Axes: xlabel='BHK'>"
      ]
     },
     "execution_count": 12,
     "metadata": {},
     "output_type": "execute_result"
    },
    {
     "data": {
      "image/png": "[encoded data removed]",
      "text/plain": [
       "<Figure size 1000x500 with 2 Axes>"
      ]
     },
     "metadata": {},
     "output_type": "display_data"
    }
   ],
   "source": [
    "## some plot for outlier detection: \n",
    "plt.figure(figsize=[10,5])\n",
    "plt.subplot(1,2,1)\n",
    "sns.histplot(data=df3,x=\"BHK\",bins=50)\n",
    "plt.subplot(1,2,2)\n",
    "sns.boxplot(data=df3,x =\"BHK\")"
   ]
  },
  {
   "cell_type": "markdown",
   "id": "20fb3f0d",
   "metadata": {},
   "source": [
    "### total_sqft column processing:"
   ]
  },
  {
   "cell_type": "code",
   "execution_count": 13,
   "id": "ca3068e1",
   "metadata": {},
   "outputs": [],
   "source": [
    "# a function to check:\n",
    "def is_float(x):\n",
    "    try :\n",
    "        float(x)\n",
    "    except:\n",
    "        return False\n",
    "    return True"
   ]
  },
  {
   "cell_type": "code",
   "execution_count": 14,
   "id": "7f47ff9b",
   "metadata": {},
   "outputs": [
    {
     "data": {
      "text/html": [
       "<div>\n",
       "<style scoped>\n",
       "    .dataframe tbody tr th:only-of-type {\n",
       "        vertical-align: middle;\n",
       "    }\n",
       "\n",
       "    .dataframe tbody tr th {\n",
       "        vertical-align: top;\n",
       "    }\n",
       "\n",
       "    .dataframe thead th {\n",
       "        text-align: right;\n",
       "    }\n",
       "</style>\n",
       "<table border=\"1\" class=\"dataframe\">\n",
       "  <thead>\n",
       "    <tr style=\"text-align: right;\">\n",
       "      <th></th>\n",
       "      <th>location</th>\n",
       "      <th>size</th>\n",
       "      <th>total_sqft</th>\n",
       "      <th>bath</th>\n",
       "      <th>price</th>\n",
       "      <th>BHK</th>\n",
       "    </tr>\n",
       "  </thead>\n",
       "  <tbody>\n",
       "    <tr>\n",
       "      <th>30</th>\n",
       "      <td>Yelahanka</td>\n",
       "      <td>4 BHK</td>\n",
       "      <td>2100 - 2850</td>\n",
       "      <td>4.0</td>\n",
       "      <td>186.000</td>\n",
       "      <td>4</td>\n",
       "    </tr>\n",
       "    <tr>\n",
       "      <th>122</th>\n",
       "      <td>Hebbal</td>\n",
       "      <td>4 BHK</td>\n",
       "      <td>3067 - 8156</td>\n",
       "      <td>4.0</td>\n",
       "      <td>477.000</td>\n",
       "      <td>4</td>\n",
       "    </tr>\n",
       "    <tr>\n",
       "      <th>137</th>\n",
       "      <td>8th Phase JP Nagar</td>\n",
       "      <td>2 BHK</td>\n",
       "      <td>1042 - 1105</td>\n",
       "      <td>2.0</td>\n",
       "      <td>54.005</td>\n",
       "      <td>2</td>\n",
       "    </tr>\n",
       "    <tr>\n",
       "      <th>165</th>\n",
       "      <td>Sarjapur</td>\n",
       "      <td>2 BHK</td>\n",
       "      <td>1145 - 1340</td>\n",
       "      <td>2.0</td>\n",
       "      <td>43.490</td>\n",
       "      <td>2</td>\n",
       "    </tr>\n",
       "    <tr>\n",
       "      <th>188</th>\n",
       "      <td>KR Puram</td>\n",
       "      <td>2 BHK</td>\n",
       "      <td>1015 - 1540</td>\n",
       "      <td>2.0</td>\n",
       "      <td>56.800</td>\n",
       "      <td>2</td>\n",
       "    </tr>\n",
       "    <tr>\n",
       "      <th>410</th>\n",
       "      <td>Kengeri</td>\n",
       "      <td>1 BHK</td>\n",
       "      <td>34.46Sq. Meter</td>\n",
       "      <td>1.0</td>\n",
       "      <td>18.500</td>\n",
       "      <td>1</td>\n",
       "    </tr>\n",
       "    <tr>\n",
       "      <th>549</th>\n",
       "      <td>Hennur Road</td>\n",
       "      <td>2 BHK</td>\n",
       "      <td>1195 - 1440</td>\n",
       "      <td>2.0</td>\n",
       "      <td>63.770</td>\n",
       "      <td>2</td>\n",
       "    </tr>\n",
       "    <tr>\n",
       "      <th>648</th>\n",
       "      <td>Arekere</td>\n",
       "      <td>9 Bedroom</td>\n",
       "      <td>4125Perch</td>\n",
       "      <td>9.0</td>\n",
       "      <td>265.000</td>\n",
       "      <td>9</td>\n",
       "    </tr>\n",
       "    <tr>\n",
       "      <th>661</th>\n",
       "      <td>Yelahanka</td>\n",
       "      <td>2 BHK</td>\n",
       "      <td>1120 - 1145</td>\n",
       "      <td>2.0</td>\n",
       "      <td>48.130</td>\n",
       "      <td>2</td>\n",
       "    </tr>\n",
       "    <tr>\n",
       "      <th>672</th>\n",
       "      <td>Bettahalsoor</td>\n",
       "      <td>4 Bedroom</td>\n",
       "      <td>3090 - 5002</td>\n",
       "      <td>4.0</td>\n",
       "      <td>445.000</td>\n",
       "      <td>4</td>\n",
       "    </tr>\n",
       "  </tbody>\n",
       "</table>\n",
       "</div>"
      ],
      "text/plain": [
       "               location       size      total_sqft  bath    price  BHK\n",
       "30            Yelahanka      4 BHK     2100 - 2850   4.0  186.000    4\n",
       "122              Hebbal      4 BHK     3067 - 8156   4.0  477.000    4\n",
       "137  8th Phase JP Nagar      2 BHK     1042 - 1105   2.0   54.005    2\n",
       "165            Sarjapur      2 BHK     1145 - 1340   2.0   43.490    2\n",
       "188            KR Puram      2 BHK     1015 - 1540   2.0   56.800    2\n",
       "410             Kengeri      1 BHK  34.46Sq. Meter   1.0   18.500    1\n",
       "549         Hennur Road      2 BHK     1195 - 1440   2.0   63.770    2\n",
       "648             Arekere  9 Bedroom       4125Perch   9.0  265.000    9\n",
       "661           Yelahanka      2 BHK     1120 - 1145   2.0   48.130    2\n",
       "672        Bettahalsoor  4 Bedroom     3090 - 5002   4.0  445.000    4"
      ]
     },
     "execution_count": 14,
     "metadata": {},
     "output_type": "execute_result"
    }
   ],
   "source": [
    "df3[~df3[\"total_sqft\"].apply(is_float)].head(10)"
   ]
  },
  {
   "cell_type": "code",
   "execution_count": 15,
   "id": "1e8a7d88",
   "metadata": {},
   "outputs": [],
   "source": [
    "# format the total_sqft:\n",
    "def generate_mean(x):\n",
    "    numbers = x.split(\"-\")\n",
    "    if len(numbers) == 2:\n",
    "        return (float(numbers[0])+float(numbers[1]))/2\n",
    "    try:\n",
    "        return float(x)\n",
    "    except:\n",
    "        return None"
   ]
  },
  {
   "cell_type": "code",
   "execution_count": 16,
   "id": "144b0de3",
   "metadata": {},
   "outputs": [
    {
     "name": "stderr",
     "output_type": "stream",
     "text": [
      "C:\\Users\\rahul\\AppData\\Local\\Temp\\ipykernel_7344\\34702769.py:1: SettingWithCopyWarning: \n",
      "A value is trying to be set on a copy of a slice from a DataFrame.\n",
      "Try using .loc[row_indexer,col_indexer] = value instead\n",
      "\n",
      "See the caveats in the documentation: https://pandas.pydata.org/pandas-docs/stable/user_guide/indexing.html#returning-a-view-versus-a-copy\n",
      "  df3[\"total_sqft\"] = df3[\"total_sqft\"].apply(generate_mean)\n",
      "C:\\Users\\rahul\\AppData\\Local\\Temp\\ipykernel_7344\\34702769.py:2: SettingWithCopyWarning: \n",
      "A value is trying to be set on a copy of a slice from a DataFrame\n",
      "\n",
      "See the caveats in the documentation: https://pandas.pydata.org/pandas-docs/stable/user_guide/indexing.html#returning-a-view-versus-a-copy\n",
      "  df3.dropna(inplace=True)\n"
     ]
    }
   ],
   "source": [
    "df3[\"total_sqft\"] = df3[\"total_sqft\"].apply(generate_mean)\n",
    "df3.dropna(inplace=True)"
   ]
  },
  {
   "cell_type": "code",
   "execution_count": 17,
   "id": "43120956",
   "metadata": {},
   "outputs": [
    {
     "data": {
      "text/plain": [
       "location      0\n",
       "size          0\n",
       "total_sqft    0\n",
       "bath          0\n",
       "price         0\n",
       "BHK           0\n",
       "dtype: int64"
      ]
     },
     "execution_count": 17,
     "metadata": {},
     "output_type": "execute_result"
    }
   ],
   "source": [
    "df3.isnull().sum()"
   ]
  },
  {
   "cell_type": "code",
   "execution_count": 18,
   "id": "cd68a705",
   "metadata": {},
   "outputs": [
    {
     "data": {
      "text/plain": [
       "Text(0.5, 1.0, 'BoxPlot')"
      ]
     },
     "execution_count": 18,
     "metadata": {},
     "output_type": "execute_result"
    },
    {
     "data": {
      "image/png": "[encoded data removed]",
      "text/plain": [
       "<Figure size 1000x500 with 2 Axes>"
      ]
     },
     "metadata": {},
     "output_type": "display_data"
    }
   ],
   "source": [
    "## some plot for outlier detection: \n",
    "plt.figure(figsize=[10,5])\n",
    "plt.subplot(1,2,1)\n",
    "p = sns.histplot(data=df3,x=\"total_sqft\",bins=50)\n",
    "p.set_title(\"Histogram\")\n",
    "plt.subplot(1,2,2)\n",
    "p = sns.boxplot(data=df3,x =\"total_sqft\")\n",
    "p.set_title(\"BoxPlot\")"
   ]
  },
  {
   "cell_type": "markdown",
   "id": "e1415899",
   "metadata": {},
   "source": [
    "## Feature Engineering:"
   ]
  },
  {
   "cell_type": "markdown",
   "id": "9f2e90b2",
   "metadata": {},
   "source": [
    "### location column processing:"
   ]
  },
  {
   "cell_type": "code",
   "execution_count": 19,
   "id": "bfe3caad",
   "metadata": {},
   "outputs": [
    {
     "data": {
      "text/plain": [
       "(1298,)"
      ]
     },
     "execution_count": 19,
     "metadata": {},
     "output_type": "execute_result"
    }
   ],
   "source": [
    "df3.location.unique().shape"
   ]
  },
  {
   "cell_type": "code",
   "execution_count": 20,
   "id": "3208b213",
   "metadata": {},
   "outputs": [],
   "source": [
    "threshold1 = 10\n",
    "loaction_count = df3.groupby(\"location\")[\"location\"].count().sort_values(ascending = False)\n",
    "loaction_count_threshold = loaction_count[loaction_count<=threshold1]"
   ]
  },
  {
   "cell_type": "code",
   "execution_count": 21,
   "id": "cb21d9a9",
   "metadata": {},
   "outputs": [
    {
     "name": "stderr",
     "output_type": "stream",
     "text": [
      "C:\\Users\\rahul\\AppData\\Local\\Temp\\ipykernel_7344\\1269548264.py:1: SettingWithCopyWarning: \n",
      "A value is trying to be set on a copy of a slice from a DataFrame.\n",
      "Try using .loc[row_indexer,col_indexer] = value instead\n",
      "\n",
      "See the caveats in the documentation: https://pandas.pydata.org/pandas-docs/stable/user_guide/indexing.html#returning-a-view-versus-a-copy\n",
      "  df3.location = df3.location.apply(lambda x: \"others\" if x in loaction_count_threshold else x.strip() )\n"
     ]
    }
   ],
   "source": [
    "df3.location = df3.location.apply(lambda x: \"others\" if x in loaction_count_threshold else x.strip() )"
   ]
  },
  {
   "cell_type": "code",
   "execution_count": 22,
   "id": "2d62e972",
   "metadata": {},
   "outputs": [
    {
     "data": {
      "text/plain": [
       "(241,)"
      ]
     },
     "execution_count": 22,
     "metadata": {},
     "output_type": "execute_result"
    }
   ],
   "source": [
    "df3.location.unique().shape"
   ]
  },
  {
   "cell_type": "code",
   "execution_count": 23,
   "id": "9fa011c2",
   "metadata": {},
   "outputs": [
    {
     "data": {
      "text/html": [
       "<div>\n",
       "<style scoped>\n",
       "    .dataframe tbody tr th:only-of-type {\n",
       "        vertical-align: middle;\n",
       "    }\n",
       "\n",
       "    .dataframe tbody tr th {\n",
       "        vertical-align: top;\n",
       "    }\n",
       "\n",
       "    .dataframe thead th {\n",
       "        text-align: right;\n",
       "    }\n",
       "</style>\n",
       "<table border=\"1\" class=\"dataframe\">\n",
       "  <thead>\n",
       "    <tr style=\"text-align: right;\">\n",
       "      <th></th>\n",
       "      <th>location</th>\n",
       "      <th>size</th>\n",
       "      <th>total_sqft</th>\n",
       "      <th>bath</th>\n",
       "      <th>price</th>\n",
       "      <th>BHK</th>\n",
       "    </tr>\n",
       "  </thead>\n",
       "  <tbody>\n",
       "    <tr>\n",
       "      <th>0</th>\n",
       "      <td>Electronic City Phase II</td>\n",
       "      <td>2 BHK</td>\n",
       "      <td>1056.0</td>\n",
       "      <td>2.0</td>\n",
       "      <td>39.07</td>\n",
       "      <td>2</td>\n",
       "    </tr>\n",
       "    <tr>\n",
       "      <th>1</th>\n",
       "      <td>Chikka Tirupathi</td>\n",
       "      <td>4 Bedroom</td>\n",
       "      <td>2600.0</td>\n",
       "      <td>5.0</td>\n",
       "      <td>120.00</td>\n",
       "      <td>4</td>\n",
       "    </tr>\n",
       "    <tr>\n",
       "      <th>2</th>\n",
       "      <td>Uttarahalli</td>\n",
       "      <td>3 BHK</td>\n",
       "      <td>1440.0</td>\n",
       "      <td>2.0</td>\n",
       "      <td>62.00</td>\n",
       "      <td>3</td>\n",
       "    </tr>\n",
       "    <tr>\n",
       "      <th>3</th>\n",
       "      <td>Lingadheeranahalli</td>\n",
       "      <td>3 BHK</td>\n",
       "      <td>1521.0</td>\n",
       "      <td>3.0</td>\n",
       "      <td>95.00</td>\n",
       "      <td>3</td>\n",
       "    </tr>\n",
       "    <tr>\n",
       "      <th>4</th>\n",
       "      <td>Kothanur</td>\n",
       "      <td>2 BHK</td>\n",
       "      <td>1200.0</td>\n",
       "      <td>2.0</td>\n",
       "      <td>51.00</td>\n",
       "      <td>2</td>\n",
       "    </tr>\n",
       "    <tr>\n",
       "      <th>5</th>\n",
       "      <td>Whitefield</td>\n",
       "      <td>2 BHK</td>\n",
       "      <td>1170.0</td>\n",
       "      <td>2.0</td>\n",
       "      <td>38.00</td>\n",
       "      <td>2</td>\n",
       "    </tr>\n",
       "    <tr>\n",
       "      <th>6</th>\n",
       "      <td>Old Airport Road</td>\n",
       "      <td>4 BHK</td>\n",
       "      <td>2732.0</td>\n",
       "      <td>4.0</td>\n",
       "      <td>204.00</td>\n",
       "      <td>4</td>\n",
       "    </tr>\n",
       "    <tr>\n",
       "      <th>7</th>\n",
       "      <td>Rajaji Nagar</td>\n",
       "      <td>4 BHK</td>\n",
       "      <td>3300.0</td>\n",
       "      <td>4.0</td>\n",
       "      <td>600.00</td>\n",
       "      <td>4</td>\n",
       "    </tr>\n",
       "    <tr>\n",
       "      <th>8</th>\n",
       "      <td>Marathahalli</td>\n",
       "      <td>3 BHK</td>\n",
       "      <td>1310.0</td>\n",
       "      <td>3.0</td>\n",
       "      <td>63.25</td>\n",
       "      <td>3</td>\n",
       "    </tr>\n",
       "    <tr>\n",
       "      <th>9</th>\n",
       "      <td>others</td>\n",
       "      <td>6 Bedroom</td>\n",
       "      <td>1020.0</td>\n",
       "      <td>6.0</td>\n",
       "      <td>370.00</td>\n",
       "      <td>6</td>\n",
       "    </tr>\n",
       "  </tbody>\n",
       "</table>\n",
       "</div>"
      ],
      "text/plain": [
       "                   location       size  total_sqft  bath   price  BHK\n",
       "0  Electronic City Phase II      2 BHK      1056.0   2.0   39.07    2\n",
       "1          Chikka Tirupathi  4 Bedroom      2600.0   5.0  120.00    4\n",
       "2               Uttarahalli      3 BHK      1440.0   2.0   62.00    3\n",
       "3        Lingadheeranahalli      3 BHK      1521.0   3.0   95.00    3\n",
       "4                  Kothanur      2 BHK      1200.0   2.0   51.00    2\n",
       "5                Whitefield      2 BHK      1170.0   2.0   38.00    2\n",
       "6          Old Airport Road      4 BHK      2732.0   4.0  204.00    4\n",
       "7              Rajaji Nagar      4 BHK      3300.0   4.0  600.00    4\n",
       "8              Marathahalli      3 BHK      1310.0   3.0   63.25    3\n",
       "9                    others  6 Bedroom      1020.0   6.0  370.00    6"
      ]
     },
     "execution_count": 23,
     "metadata": {},
     "output_type": "execute_result"
    }
   ],
   "source": [
    "df3.head(10)"
   ]
  },
  {
   "cell_type": "markdown",
   "id": "a166ba41",
   "metadata": {},
   "source": [
    "### Price_per_sqft"
   ]
  },
  {
   "cell_type": "code",
   "execution_count": 24,
   "id": "cf88ae9e",
   "metadata": {},
   "outputs": [
    {
     "name": "stderr",
     "output_type": "stream",
     "text": [
      "C:\\Users\\rahul\\AppData\\Local\\Temp\\ipykernel_7344\\958065809.py:1: SettingWithCopyWarning: \n",
      "A value is trying to be set on a copy of a slice from a DataFrame.\n",
      "Try using .loc[row_indexer,col_indexer] = value instead\n",
      "\n",
      "See the caveats in the documentation: https://pandas.pydata.org/pandas-docs/stable/user_guide/indexing.html#returning-a-view-versus-a-copy\n",
      "  df3[\"price_per_sqft\"] = df3.price/df3.total_sqft*100000\n"
     ]
    }
   ],
   "source": [
    "df3[\"price_per_sqft\"] = df3.price/df3.total_sqft*100000"
   ]
  },
  {
   "cell_type": "code",
   "execution_count": 25,
   "id": "ac754dec",
   "metadata": {},
   "outputs": [
    {
     "data": {
      "text/html": [
       "<div>\n",
       "<style scoped>\n",
       "    .dataframe tbody tr th:only-of-type {\n",
       "        vertical-align: middle;\n",
       "    }\n",
       "\n",
       "    .dataframe tbody tr th {\n",
       "        vertical-align: top;\n",
       "    }\n",
       "\n",
       "    .dataframe thead th {\n",
       "        text-align: right;\n",
       "    }\n",
       "</style>\n",
       "<table border=\"1\" class=\"dataframe\">\n",
       "  <thead>\n",
       "    <tr style=\"text-align: right;\">\n",
       "      <th></th>\n",
       "      <th>location</th>\n",
       "      <th>size</th>\n",
       "      <th>total_sqft</th>\n",
       "      <th>bath</th>\n",
       "      <th>price</th>\n",
       "      <th>BHK</th>\n",
       "      <th>price_per_sqft</th>\n",
       "    </tr>\n",
       "  </thead>\n",
       "  <tbody>\n",
       "    <tr>\n",
       "      <th>0</th>\n",
       "      <td>Electronic City Phase II</td>\n",
       "      <td>2 BHK</td>\n",
       "      <td>1056.0</td>\n",
       "      <td>2.0</td>\n",
       "      <td>39.07</td>\n",
       "      <td>2</td>\n",
       "      <td>3699.810606</td>\n",
       "    </tr>\n",
       "    <tr>\n",
       "      <th>1</th>\n",
       "      <td>Chikka Tirupathi</td>\n",
       "      <td>4 Bedroom</td>\n",
       "      <td>2600.0</td>\n",
       "      <td>5.0</td>\n",
       "      <td>120.00</td>\n",
       "      <td>4</td>\n",
       "      <td>4615.384615</td>\n",
       "    </tr>\n",
       "    <tr>\n",
       "      <th>2</th>\n",
       "      <td>Uttarahalli</td>\n",
       "      <td>3 BHK</td>\n",
       "      <td>1440.0</td>\n",
       "      <td>2.0</td>\n",
       "      <td>62.00</td>\n",
       "      <td>3</td>\n",
       "      <td>4305.555556</td>\n",
       "    </tr>\n",
       "    <tr>\n",
       "      <th>3</th>\n",
       "      <td>Lingadheeranahalli</td>\n",
       "      <td>3 BHK</td>\n",
       "      <td>1521.0</td>\n",
       "      <td>3.0</td>\n",
       "      <td>95.00</td>\n",
       "      <td>3</td>\n",
       "      <td>6245.890861</td>\n",
       "    </tr>\n",
       "    <tr>\n",
       "      <th>4</th>\n",
       "      <td>Kothanur</td>\n",
       "      <td>2 BHK</td>\n",
       "      <td>1200.0</td>\n",
       "      <td>2.0</td>\n",
       "      <td>51.00</td>\n",
       "      <td>2</td>\n",
       "      <td>4250.000000</td>\n",
       "    </tr>\n",
       "  </tbody>\n",
       "</table>\n",
       "</div>"
      ],
      "text/plain": [
       "                   location       size  total_sqft  bath   price  BHK  \\\n",
       "0  Electronic City Phase II      2 BHK      1056.0   2.0   39.07    2   \n",
       "1          Chikka Tirupathi  4 Bedroom      2600.0   5.0  120.00    4   \n",
       "2               Uttarahalli      3 BHK      1440.0   2.0   62.00    3   \n",
       "3        Lingadheeranahalli      3 BHK      1521.0   3.0   95.00    3   \n",
       "4                  Kothanur      2 BHK      1200.0   2.0   51.00    2   \n",
       "\n",
       "   price_per_sqft  \n",
       "0     3699.810606  \n",
       "1     4615.384615  \n",
       "2     4305.555556  \n",
       "3     6245.890861  \n",
       "4     4250.000000  "
      ]
     },
     "execution_count": 25,
     "metadata": {},
     "output_type": "execute_result"
    }
   ],
   "source": [
    "df3.head()"
   ]
  },
  {
   "cell_type": "markdown",
   "id": "cc5d004e",
   "metadata": {},
   "source": [
    "## Outlier Removal:"
   ]
  },
  {
   "cell_type": "markdown",
   "id": "62cf12b7",
   "metadata": {},
   "source": [
    "### total_sqft per BHK"
   ]
  },
  {
   "cell_type": "code",
   "execution_count": 26,
   "id": "9100a6a6",
   "metadata": {},
   "outputs": [
    {
     "data": {
      "text/plain": [
       "count    13200.000000\n",
       "mean       573.847262\n",
       "std        388.079980\n",
       "min          0.250000\n",
       "25%        473.000000\n",
       "50%        552.000000\n",
       "75%        625.000000\n",
       "max      26136.000000\n",
       "dtype: float64"
      ]
     },
     "execution_count": 26,
     "metadata": {},
     "output_type": "execute_result"
    }
   ],
   "source": [
    "total_sqft_per_BHK = (df3.total_sqft/df3.BHK)\n",
    "total_sqft_per_BHK.describe()"
   ]
  },
  {
   "cell_type": "code",
   "execution_count": 27,
   "id": "3252e40e",
   "metadata": {},
   "outputs": [],
   "source": [
    "threshold2 = 300\n",
    "df4 = df3[~((df3.total_sqft/df3.BHK) < threshold2)]"
   ]
  },
  {
   "cell_type": "code",
   "execution_count": 28,
   "id": "1a5cba40",
   "metadata": {},
   "outputs": [
    {
     "data": {
      "text/html": [
       "<div>\n",
       "<style scoped>\n",
       "    .dataframe tbody tr th:only-of-type {\n",
       "        vertical-align: middle;\n",
       "    }\n",
       "\n",
       "    .dataframe tbody tr th {\n",
       "        vertical-align: top;\n",
       "    }\n",
       "\n",
       "    .dataframe thead th {\n",
       "        text-align: right;\n",
       "    }\n",
       "</style>\n",
       "<table border=\"1\" class=\"dataframe\">\n",
       "  <thead>\n",
       "    <tr style=\"text-align: right;\">\n",
       "      <th></th>\n",
       "      <th>location</th>\n",
       "      <th>size</th>\n",
       "      <th>total_sqft</th>\n",
       "      <th>bath</th>\n",
       "      <th>price</th>\n",
       "      <th>BHK</th>\n",
       "      <th>price_per_sqft</th>\n",
       "    </tr>\n",
       "  </thead>\n",
       "  <tbody>\n",
       "    <tr>\n",
       "      <th>0</th>\n",
       "      <td>Electronic City Phase II</td>\n",
       "      <td>2 BHK</td>\n",
       "      <td>1056.0</td>\n",
       "      <td>2.0</td>\n",
       "      <td>39.07</td>\n",
       "      <td>2</td>\n",
       "      <td>3699.810606</td>\n",
       "    </tr>\n",
       "    <tr>\n",
       "      <th>1</th>\n",
       "      <td>Chikka Tirupathi</td>\n",
       "      <td>4 Bedroom</td>\n",
       "      <td>2600.0</td>\n",
       "      <td>5.0</td>\n",
       "      <td>120.00</td>\n",
       "      <td>4</td>\n",
       "      <td>4615.384615</td>\n",
       "    </tr>\n",
       "    <tr>\n",
       "      <th>2</th>\n",
       "      <td>Uttarahalli</td>\n",
       "      <td>3 BHK</td>\n",
       "      <td>1440.0</td>\n",
       "      <td>2.0</td>\n",
       "      <td>62.00</td>\n",
       "      <td>3</td>\n",
       "      <td>4305.555556</td>\n",
       "    </tr>\n",
       "    <tr>\n",
       "      <th>3</th>\n",
       "      <td>Lingadheeranahalli</td>\n",
       "      <td>3 BHK</td>\n",
       "      <td>1521.0</td>\n",
       "      <td>3.0</td>\n",
       "      <td>95.00</td>\n",
       "      <td>3</td>\n",
       "      <td>6245.890861</td>\n",
       "    </tr>\n",
       "    <tr>\n",
       "      <th>4</th>\n",
       "      <td>Kothanur</td>\n",
       "      <td>2 BHK</td>\n",
       "      <td>1200.0</td>\n",
       "      <td>2.0</td>\n",
       "      <td>51.00</td>\n",
       "      <td>2</td>\n",
       "      <td>4250.000000</td>\n",
       "    </tr>\n",
       "  </tbody>\n",
       "</table>\n",
       "</div>"
      ],
      "text/plain": [
       "                   location       size  total_sqft  bath   price  BHK  \\\n",
       "0  Electronic City Phase II      2 BHK      1056.0   2.0   39.07    2   \n",
       "1          Chikka Tirupathi  4 Bedroom      2600.0   5.0  120.00    4   \n",
       "2               Uttarahalli      3 BHK      1440.0   2.0   62.00    3   \n",
       "3        Lingadheeranahalli      3 BHK      1521.0   3.0   95.00    3   \n",
       "4                  Kothanur      2 BHK      1200.0   2.0   51.00    2   \n",
       "\n",
       "   price_per_sqft  \n",
       "0     3699.810606  \n",
       "1     4615.384615  \n",
       "2     4305.555556  \n",
       "3     6245.890861  \n",
       "4     4250.000000  "
      ]
     },
     "execution_count": 28,
     "metadata": {},
     "output_type": "execute_result"
    }
   ],
   "source": [
    "df4.head()"
   ]
  },
  {
   "cell_type": "code",
   "execution_count": 29,
   "id": "e360c905",
   "metadata": {},
   "outputs": [
    {
     "data": {
      "text/plain": [
       "(12456, 7)"
      ]
     },
     "execution_count": 29,
     "metadata": {},
     "output_type": "execute_result"
    }
   ],
   "source": [
    "df4.shape"
   ]
  },
  {
   "cell_type": "markdown",
   "id": "87000579",
   "metadata": {},
   "source": [
    "### Price per sqft:"
   ]
  },
  {
   "cell_type": "code",
   "execution_count": 30,
   "id": "b821c1cb",
   "metadata": {},
   "outputs": [
    {
     "data": {
      "text/plain": [
       "<Axes: xlabel='price_per_sqft', ylabel='Count'>"
      ]
     },
     "execution_count": 30,
     "metadata": {},
     "output_type": "execute_result"
    },
    {
     "data": {
      "image/png": "[encoded data removed]",
      "text/plain": [
       "<Figure size 640x480 with 1 Axes>"
      ]
     },
     "metadata": {},
     "output_type": "display_data"
    }
   ],
   "source": [
    "sns.histplot(data=df4,x=\"price_per_sqft\",bins=50)"
   ]
  },
  {
   "cell_type": "code",
   "execution_count": 31,
   "id": "fe8cae76",
   "metadata": {},
   "outputs": [
    {
     "data": {
      "text/plain": [
       "count     12456.000000\n",
       "mean       6308.502826\n",
       "std        4168.127339\n",
       "min         267.829813\n",
       "25%        4210.526316\n",
       "50%        5294.117647\n",
       "75%        6916.666667\n",
       "max      176470.588235\n",
       "Name: price_per_sqft, dtype: float64"
      ]
     },
     "execution_count": 31,
     "metadata": {},
     "output_type": "execute_result"
    }
   ],
   "source": [
    "df4.price_per_sqft.describe()"
   ]
  },
  {
   "cell_type": "markdown",
   "id": "bd28f457",
   "metadata": {},
   "source": [
    "**Assumption**:\n",
    "* The price_per_sqft follows a normal distribution.\n",
    "* The 1 std distance from mean point in both side contains 68% data points."
   ]
  },
  {
   "cell_type": "code",
   "execution_count": 32,
   "id": "a4e5b4e1",
   "metadata": {},
   "outputs": [
    {
     "data": {
      "text/html": [
       "<div>\n",
       "<style scoped>\n",
       "    .dataframe tbody tr th:only-of-type {\n",
       "        vertical-align: middle;\n",
       "    }\n",
       "\n",
       "    .dataframe tbody tr th {\n",
       "        vertical-align: top;\n",
       "    }\n",
       "\n",
       "    .dataframe thead th {\n",
       "        text-align: right;\n",
       "    }\n",
       "</style>\n",
       "<table border=\"1\" class=\"dataframe\">\n",
       "  <thead>\n",
       "    <tr style=\"text-align: right;\">\n",
       "      <th></th>\n",
       "      <th>location</th>\n",
       "      <th>size</th>\n",
       "      <th>total_sqft</th>\n",
       "      <th>bath</th>\n",
       "      <th>price</th>\n",
       "      <th>BHK</th>\n",
       "      <th>price_per_sqft</th>\n",
       "    </tr>\n",
       "  </thead>\n",
       "  <tbody>\n",
       "    <tr>\n",
       "      <th>0</th>\n",
       "      <td>Electronic City Phase II</td>\n",
       "      <td>2 BHK</td>\n",
       "      <td>1056.0</td>\n",
       "      <td>2.0</td>\n",
       "      <td>39.07</td>\n",
       "      <td>2</td>\n",
       "      <td>3699.810606</td>\n",
       "    </tr>\n",
       "    <tr>\n",
       "      <th>1</th>\n",
       "      <td>Chikka Tirupathi</td>\n",
       "      <td>4 Bedroom</td>\n",
       "      <td>2600.0</td>\n",
       "      <td>5.0</td>\n",
       "      <td>120.00</td>\n",
       "      <td>4</td>\n",
       "      <td>4615.384615</td>\n",
       "    </tr>\n",
       "    <tr>\n",
       "      <th>2</th>\n",
       "      <td>Uttarahalli</td>\n",
       "      <td>3 BHK</td>\n",
       "      <td>1440.0</td>\n",
       "      <td>2.0</td>\n",
       "      <td>62.00</td>\n",
       "      <td>3</td>\n",
       "      <td>4305.555556</td>\n",
       "    </tr>\n",
       "    <tr>\n",
       "      <th>3</th>\n",
       "      <td>Lingadheeranahalli</td>\n",
       "      <td>3 BHK</td>\n",
       "      <td>1521.0</td>\n",
       "      <td>3.0</td>\n",
       "      <td>95.00</td>\n",
       "      <td>3</td>\n",
       "      <td>6245.890861</td>\n",
       "    </tr>\n",
       "    <tr>\n",
       "      <th>4</th>\n",
       "      <td>Kothanur</td>\n",
       "      <td>2 BHK</td>\n",
       "      <td>1200.0</td>\n",
       "      <td>2.0</td>\n",
       "      <td>51.00</td>\n",
       "      <td>2</td>\n",
       "      <td>4250.000000</td>\n",
       "    </tr>\n",
       "  </tbody>\n",
       "</table>\n",
       "</div>"
      ],
      "text/plain": [
       "                   location       size  total_sqft  bath   price  BHK  \\\n",
       "0  Electronic City Phase II      2 BHK      1056.0   2.0   39.07    2   \n",
       "1          Chikka Tirupathi  4 Bedroom      2600.0   5.0  120.00    4   \n",
       "2               Uttarahalli      3 BHK      1440.0   2.0   62.00    3   \n",
       "3        Lingadheeranahalli      3 BHK      1521.0   3.0   95.00    3   \n",
       "4                  Kothanur      2 BHK      1200.0   2.0   51.00    2   \n",
       "\n",
       "   price_per_sqft  \n",
       "0     3699.810606  \n",
       "1     4615.384615  \n",
       "2     4305.555556  \n",
       "3     6245.890861  \n",
       "4     4250.000000  "
      ]
     },
     "execution_count": 32,
     "metadata": {},
     "output_type": "execute_result"
    }
   ],
   "source": [
    "mean = df4.price_per_sqft.mean()\n",
    "std = df4.price_per_sqft.std()\n",
    "df5 = df4[(df4.price_per_sqft >= (mean-std)) & (df4.price_per_sqft <= (mean+std))]\n",
    "df5.head()"
   ]
  },
  {
   "cell_type": "code",
   "execution_count": 33,
   "id": "7b7718ff",
   "metadata": {},
   "outputs": [
    {
     "data": {
      "text/plain": [
       "<Axes: xlabel='price_per_sqft', ylabel='Count'>"
      ]
     },
     "execution_count": 33,
     "metadata": {},
     "output_type": "execute_result"
    },
    {
     "data": {
      "image/png": "[encoded data removed]",
      "text/plain": [
       "<Figure size 640x480 with 1 Axes>"
      ]
     },
     "metadata": {},
     "output_type": "display_data"
    }
   ],
   "source": [
    "sns.histplot(data=df5,x=\"price_per_sqft\",bins=10)"
   ]
  },
  {
   "cell_type": "markdown",
   "id": "c443c812",
   "metadata": {},
   "source": [
    "### At any location the total_sqft and price comparison:"
   ]
  },
  {
   "cell_type": "code",
   "execution_count": 34,
   "id": "0a25270d",
   "metadata": {},
   "outputs": [],
   "source": [
    "def plot_scatter_chart(df,location):\n",
    "    n_df = df[(df.location == location)]# & (df.area_type == area_type)]\n",
    "    sns.scatterplot(data=n_df,x=\"total_sqft\",y=\"price\",hue=\"BHK\",palette=\"coolwarm\")\n",
    "    plt.show()"
   ]
  },
  {
   "cell_type": "code",
   "execution_count": 35,
   "id": "6562791d",
   "metadata": {},
   "outputs": [
    {
     "data": {
      "image/png": "[encoded data removed]",
      "text/plain": [
       "<Figure size 640x480 with 1 Axes>"
      ]
     },
     "metadata": {},
     "output_type": "display_data"
    }
   ],
   "source": [
    "plot_scatter_chart(df5,\"Whitefield\")"
   ]
  },
  {
   "cell_type": "code",
   "execution_count": 36,
   "id": "fdf43bcd",
   "metadata": {},
   "outputs": [],
   "source": [
    "def remove_bhk_outliers(df:pd.DataFrame()):\n",
    "    exclude_indices = np.array([])\n",
    "    \n",
    "    count_df = df5.groupby([\"location\",\"BHK\"])[[\"price_per_sqft\"]].count()\n",
    "    mean_df = df5.groupby([\"location\",\"BHK\"])[[\"price_per_sqft\"]].mean()\n",
    "    std_df = df5.groupby([\"location\",\"BHK\"])[[\"price_per_sqft\"]].std()\n",
    "    \n",
    "    for location ,location_df in df.groupby(\"location\"):\n",
    "        stats = {}\n",
    "        for bhk,bhk_df in location_df.groupby(\"BHK\"):\n",
    "            try: \n",
    "                stats = {\n",
    "                    \"mean\": mean_df.loc[location,bhk-1].values,\n",
    "                    \"count\": count_df.loc[location,bhk-1].values,\n",
    "                    \"std\": std_df.loc[location,bhk-1].values\n",
    "                }\n",
    "            except :\n",
    "                stats = None\n",
    "            if stats and stats[\"count\"] > 5:\n",
    "                exclude_indices = np.append(exclude_indices,bhk_df[bhk_df.price_per_sqft < stats[\"mean\"][0]].index.values)\n",
    "    return df.drop(exclude_indices,axis=0)"
   ]
  },
  {
   "cell_type": "code",
   "execution_count": 37,
   "id": "8b859aa3",
   "metadata": {},
   "outputs": [],
   "source": [
    "df6 = remove_bhk_outliers(df5)"
   ]
  },
  {
   "cell_type": "code",
   "execution_count": 38,
   "id": "2b12454f",
   "metadata": {},
   "outputs": [
    {
     "data": {
      "image/png": "[encoded data removed]",
      "text/plain": [
       "<Figure size 640x480 with 1 Axes>"
      ]
     },
     "metadata": {},
     "output_type": "display_data"
    }
   ],
   "source": [
    "plot_scatter_chart(df6,\"Whitefield\")"
   ]
  },
  {
   "cell_type": "code",
   "execution_count": 39,
   "id": "f7ebf371",
   "metadata": {},
   "outputs": [
    {
     "data": {
      "image/png": "[encoded data removed]",
      "text/plain": [
       "<Figure size 640x480 with 1 Axes>"
      ]
     },
     "metadata": {},
     "output_type": "display_data"
    }
   ],
   "source": [
    "sns.histplot(data=df6,x=\"price_per_sqft\",bins=10)\n",
    "plt.show()"
   ]
  },
  {
   "cell_type": "code",
   "execution_count": 68,
   "id": "c0ccd038",
   "metadata": {},
   "outputs": [],
   "source": [
    "df7 = df6.drop([\"size\",\"price_per_sqft\"],axis=1)"
   ]
  },
  {
   "cell_type": "code",
   "execution_count": 69,
   "id": "e7787e15",
   "metadata": {},
   "outputs": [
    {
     "data": {
      "text/html": [
       "<div>\n",
       "<style scoped>\n",
       "    .dataframe tbody tr th:only-of-type {\n",
       "        vertical-align: middle;\n",
       "    }\n",
       "\n",
       "    .dataframe tbody tr th {\n",
       "        vertical-align: top;\n",
       "    }\n",
       "\n",
       "    .dataframe thead th {\n",
       "        text-align: right;\n",
       "    }\n",
       "</style>\n",
       "<table border=\"1\" class=\"dataframe\">\n",
       "  <thead>\n",
       "    <tr style=\"text-align: right;\">\n",
       "      <th></th>\n",
       "      <th>location</th>\n",
       "      <th>total_sqft</th>\n",
       "      <th>bath</th>\n",
       "      <th>price</th>\n",
       "      <th>BHK</th>\n",
       "    </tr>\n",
       "  </thead>\n",
       "  <tbody>\n",
       "    <tr>\n",
       "      <th>0</th>\n",
       "      <td>Electronic City Phase II</td>\n",
       "      <td>1056.0</td>\n",
       "      <td>2.0</td>\n",
       "      <td>39.07</td>\n",
       "      <td>2</td>\n",
       "    </tr>\n",
       "    <tr>\n",
       "      <th>2</th>\n",
       "      <td>Uttarahalli</td>\n",
       "      <td>1440.0</td>\n",
       "      <td>2.0</td>\n",
       "      <td>62.00</td>\n",
       "      <td>3</td>\n",
       "    </tr>\n",
       "    <tr>\n",
       "      <th>3</th>\n",
       "      <td>Lingadheeranahalli</td>\n",
       "      <td>1521.0</td>\n",
       "      <td>3.0</td>\n",
       "      <td>95.00</td>\n",
       "      <td>3</td>\n",
       "    </tr>\n",
       "    <tr>\n",
       "      <th>4</th>\n",
       "      <td>Kothanur</td>\n",
       "      <td>1200.0</td>\n",
       "      <td>2.0</td>\n",
       "      <td>51.00</td>\n",
       "      <td>2</td>\n",
       "    </tr>\n",
       "    <tr>\n",
       "      <th>6</th>\n",
       "      <td>Old Airport Road</td>\n",
       "      <td>2732.0</td>\n",
       "      <td>4.0</td>\n",
       "      <td>204.00</td>\n",
       "      <td>4</td>\n",
       "    </tr>\n",
       "  </tbody>\n",
       "</table>\n",
       "</div>"
      ],
      "text/plain": [
       "                   location  total_sqft  bath   price  BHK\n",
       "0  Electronic City Phase II      1056.0   2.0   39.07    2\n",
       "2               Uttarahalli      1440.0   2.0   62.00    3\n",
       "3        Lingadheeranahalli      1521.0   3.0   95.00    3\n",
       "4                  Kothanur      1200.0   2.0   51.00    2\n",
       "6          Old Airport Road      2732.0   4.0  204.00    4"
      ]
     },
     "execution_count": 69,
     "metadata": {},
     "output_type": "execute_result"
    }
   ],
   "source": [
    "df7.head()"
   ]
  },
  {
   "cell_type": "markdown",
   "id": "31b8128d",
   "metadata": {},
   "source": [
    "### Modelling:"
   ]
  },
  {
   "cell_type": "code",
   "execution_count": 70,
   "id": "51aca972",
   "metadata": {},
   "outputs": [],
   "source": [
    "dummies = pd.get_dummies(data=df7.location,dtype=int).drop(\"others\",axis=1)"
   ]
  },
  {
   "cell_type": "code",
   "execution_count": 71,
   "id": "60f361f5",
   "metadata": {},
   "outputs": [
    {
     "data": {
      "text/html": [
       "<div>\n",
       "<style scoped>\n",
       "    .dataframe tbody tr th:only-of-type {\n",
       "        vertical-align: middle;\n",
       "    }\n",
       "\n",
       "    .dataframe tbody tr th {\n",
       "        vertical-align: top;\n",
       "    }\n",
       "\n",
       "    .dataframe thead th {\n",
       "        text-align: right;\n",
       "    }\n",
       "</style>\n",
       "<table border=\"1\" class=\"dataframe\">\n",
       "  <thead>\n",
       "    <tr style=\"text-align: right;\">\n",
       "      <th></th>\n",
       "      <th>location</th>\n",
       "      <th>total_sqft</th>\n",
       "      <th>bath</th>\n",
       "      <th>price</th>\n",
       "      <th>BHK</th>\n",
       "      <th>1st Block Jayanagar</th>\n",
       "      <th>1st Phase JP Nagar</th>\n",
       "      <th>2nd Phase Judicial Layout</th>\n",
       "      <th>2nd Stage Nagarbhavi</th>\n",
       "      <th>5th Block Hbr Layout</th>\n",
       "      <th>...</th>\n",
       "      <th>Vijayanagar</th>\n",
       "      <th>Vishveshwarya Layout</th>\n",
       "      <th>Vishwapriya Layout</th>\n",
       "      <th>Vittasandra</th>\n",
       "      <th>Whitefield</th>\n",
       "      <th>Yelachenahalli</th>\n",
       "      <th>Yelahanka</th>\n",
       "      <th>Yelahanka New Town</th>\n",
       "      <th>Yelenahalli</th>\n",
       "      <th>Yeshwanthpur</th>\n",
       "    </tr>\n",
       "  </thead>\n",
       "  <tbody>\n",
       "    <tr>\n",
       "      <th>0</th>\n",
       "      <td>Electronic City Phase II</td>\n",
       "      <td>1056.0</td>\n",
       "      <td>2.0</td>\n",
       "      <td>39.07</td>\n",
       "      <td>2</td>\n",
       "      <td>0</td>\n",
       "      <td>0</td>\n",
       "      <td>0</td>\n",
       "      <td>0</td>\n",
       "      <td>0</td>\n",
       "      <td>...</td>\n",
       "      <td>0</td>\n",
       "      <td>0</td>\n",
       "      <td>0</td>\n",
       "      <td>0</td>\n",
       "      <td>0</td>\n",
       "      <td>0</td>\n",
       "      <td>0</td>\n",
       "      <td>0</td>\n",
       "      <td>0</td>\n",
       "      <td>0</td>\n",
       "    </tr>\n",
       "    <tr>\n",
       "      <th>2</th>\n",
       "      <td>Uttarahalli</td>\n",
       "      <td>1440.0</td>\n",
       "      <td>2.0</td>\n",
       "      <td>62.00</td>\n",
       "      <td>3</td>\n",
       "      <td>0</td>\n",
       "      <td>0</td>\n",
       "      <td>0</td>\n",
       "      <td>0</td>\n",
       "      <td>0</td>\n",
       "      <td>...</td>\n",
       "      <td>0</td>\n",
       "      <td>0</td>\n",
       "      <td>0</td>\n",
       "      <td>0</td>\n",
       "      <td>0</td>\n",
       "      <td>0</td>\n",
       "      <td>0</td>\n",
       "      <td>0</td>\n",
       "      <td>0</td>\n",
       "      <td>0</td>\n",
       "    </tr>\n",
       "    <tr>\n",
       "      <th>3</th>\n",
       "      <td>Lingadheeranahalli</td>\n",
       "      <td>1521.0</td>\n",
       "      <td>3.0</td>\n",
       "      <td>95.00</td>\n",
       "      <td>3</td>\n",
       "      <td>0</td>\n",
       "      <td>0</td>\n",
       "      <td>0</td>\n",
       "      <td>0</td>\n",
       "      <td>0</td>\n",
       "      <td>...</td>\n",
       "      <td>0</td>\n",
       "      <td>0</td>\n",
       "      <td>0</td>\n",
       "      <td>0</td>\n",
       "      <td>0</td>\n",
       "      <td>0</td>\n",
       "      <td>0</td>\n",
       "      <td>0</td>\n",
       "      <td>0</td>\n",
       "      <td>0</td>\n",
       "    </tr>\n",
       "    <tr>\n",
       "      <th>4</th>\n",
       "      <td>Kothanur</td>\n",
       "      <td>1200.0</td>\n",
       "      <td>2.0</td>\n",
       "      <td>51.00</td>\n",
       "      <td>2</td>\n",
       "      <td>0</td>\n",
       "      <td>0</td>\n",
       "      <td>0</td>\n",
       "      <td>0</td>\n",
       "      <td>0</td>\n",
       "      <td>...</td>\n",
       "      <td>0</td>\n",
       "      <td>0</td>\n",
       "      <td>0</td>\n",
       "      <td>0</td>\n",
       "      <td>0</td>\n",
       "      <td>0</td>\n",
       "      <td>0</td>\n",
       "      <td>0</td>\n",
       "      <td>0</td>\n",
       "      <td>0</td>\n",
       "    </tr>\n",
       "    <tr>\n",
       "      <th>6</th>\n",
       "      <td>Old Airport Road</td>\n",
       "      <td>2732.0</td>\n",
       "      <td>4.0</td>\n",
       "      <td>204.00</td>\n",
       "      <td>4</td>\n",
       "      <td>0</td>\n",
       "      <td>0</td>\n",
       "      <td>0</td>\n",
       "      <td>0</td>\n",
       "      <td>0</td>\n",
       "      <td>...</td>\n",
       "      <td>0</td>\n",
       "      <td>0</td>\n",
       "      <td>0</td>\n",
       "      <td>0</td>\n",
       "      <td>0</td>\n",
       "      <td>0</td>\n",
       "      <td>0</td>\n",
       "      <td>0</td>\n",
       "      <td>0</td>\n",
       "      <td>0</td>\n",
       "    </tr>\n",
       "  </tbody>\n",
       "</table>\n",
       "<p>5 rows × 244 columns</p>\n",
       "</div>"
      ],
      "text/plain": [
       "                   location  total_sqft  bath   price  BHK  \\\n",
       "0  Electronic City Phase II      1056.0   2.0   39.07    2   \n",
       "2               Uttarahalli      1440.0   2.0   62.00    3   \n",
       "3        Lingadheeranahalli      1521.0   3.0   95.00    3   \n",
       "4                  Kothanur      1200.0   2.0   51.00    2   \n",
       "6          Old Airport Road      2732.0   4.0  204.00    4   \n",
       "\n",
       "   1st Block Jayanagar  1st Phase JP Nagar  2nd Phase Judicial Layout  \\\n",
       "0                    0                   0                          0   \n",
       "2                    0                   0                          0   \n",
       "3                    0                   0                          0   \n",
       "4                    0                   0                          0   \n",
       "6                    0                   0                          0   \n",
       "\n",
       "   2nd Stage Nagarbhavi  5th Block Hbr Layout  ...  Vijayanagar  \\\n",
       "0                     0                     0  ...            0   \n",
       "2                     0                     0  ...            0   \n",
       "3                     0                     0  ...            0   \n",
       "4                     0                     0  ...            0   \n",
       "6                     0                     0  ...            0   \n",
       "\n",
       "   Vishveshwarya Layout  Vishwapriya Layout  Vittasandra  Whitefield  \\\n",
       "0                     0                   0            0           0   \n",
       "2                     0                   0            0           0   \n",
       "3                     0                   0            0           0   \n",
       "4                     0                   0            0           0   \n",
       "6                     0                   0            0           0   \n",
       "\n",
       "   Yelachenahalli  Yelahanka  Yelahanka New Town  Yelenahalli  Yeshwanthpur  \n",
       "0               0          0                   0            0             0  \n",
       "2               0          0                   0            0             0  \n",
       "3               0          0                   0            0             0  \n",
       "4               0          0                   0            0             0  \n",
       "6               0          0                   0            0             0  \n",
       "\n",
       "[5 rows x 244 columns]"
      ]
     },
     "execution_count": 71,
     "metadata": {},
     "output_type": "execute_result"
    }
   ],
   "source": [
    "df8 = pd.concat([df7,dummies],axis=1)\n",
    "df8.head()"
   ]
  },
  {
   "cell_type": "code",
   "execution_count": 72,
   "id": "a6bb44d3",
   "metadata": {},
   "outputs": [
    {
     "data": {
      "text/html": [
       "<div>\n",
       "<style scoped>\n",
       "    .dataframe tbody tr th:only-of-type {\n",
       "        vertical-align: middle;\n",
       "    }\n",
       "\n",
       "    .dataframe tbody tr th {\n",
       "        vertical-align: top;\n",
       "    }\n",
       "\n",
       "    .dataframe thead th {\n",
       "        text-align: right;\n",
       "    }\n",
       "</style>\n",
       "<table border=\"1\" class=\"dataframe\">\n",
       "  <thead>\n",
       "    <tr style=\"text-align: right;\">\n",
       "      <th></th>\n",
       "      <th>total_sqft</th>\n",
       "      <th>bath</th>\n",
       "      <th>price</th>\n",
       "      <th>BHK</th>\n",
       "      <th>1st Block Jayanagar</th>\n",
       "      <th>1st Phase JP Nagar</th>\n",
       "      <th>2nd Phase Judicial Layout</th>\n",
       "      <th>2nd Stage Nagarbhavi</th>\n",
       "      <th>5th Block Hbr Layout</th>\n",
       "      <th>5th Phase JP Nagar</th>\n",
       "      <th>...</th>\n",
       "      <th>Vijayanagar</th>\n",
       "      <th>Vishveshwarya Layout</th>\n",
       "      <th>Vishwapriya Layout</th>\n",
       "      <th>Vittasandra</th>\n",
       "      <th>Whitefield</th>\n",
       "      <th>Yelachenahalli</th>\n",
       "      <th>Yelahanka</th>\n",
       "      <th>Yelahanka New Town</th>\n",
       "      <th>Yelenahalli</th>\n",
       "      <th>Yeshwanthpur</th>\n",
       "    </tr>\n",
       "  </thead>\n",
       "  <tbody>\n",
       "    <tr>\n",
       "      <th>0</th>\n",
       "      <td>1056.0</td>\n",
       "      <td>2.0</td>\n",
       "      <td>39.07</td>\n",
       "      <td>2</td>\n",
       "      <td>0</td>\n",
       "      <td>0</td>\n",
       "      <td>0</td>\n",
       "      <td>0</td>\n",
       "      <td>0</td>\n",
       "      <td>0</td>\n",
       "      <td>...</td>\n",
       "      <td>0</td>\n",
       "      <td>0</td>\n",
       "      <td>0</td>\n",
       "      <td>0</td>\n",
       "      <td>0</td>\n",
       "      <td>0</td>\n",
       "      <td>0</td>\n",
       "      <td>0</td>\n",
       "      <td>0</td>\n",
       "      <td>0</td>\n",
       "    </tr>\n",
       "    <tr>\n",
       "      <th>2</th>\n",
       "      <td>1440.0</td>\n",
       "      <td>2.0</td>\n",
       "      <td>62.00</td>\n",
       "      <td>3</td>\n",
       "      <td>0</td>\n",
       "      <td>0</td>\n",
       "      <td>0</td>\n",
       "      <td>0</td>\n",
       "      <td>0</td>\n",
       "      <td>0</td>\n",
       "      <td>...</td>\n",
       "      <td>0</td>\n",
       "      <td>0</td>\n",
       "      <td>0</td>\n",
       "      <td>0</td>\n",
       "      <td>0</td>\n",
       "      <td>0</td>\n",
       "      <td>0</td>\n",
       "      <td>0</td>\n",
       "      <td>0</td>\n",
       "      <td>0</td>\n",
       "    </tr>\n",
       "    <tr>\n",
       "      <th>3</th>\n",
       "      <td>1521.0</td>\n",
       "      <td>3.0</td>\n",
       "      <td>95.00</td>\n",
       "      <td>3</td>\n",
       "      <td>0</td>\n",
       "      <td>0</td>\n",
       "      <td>0</td>\n",
       "      <td>0</td>\n",
       "      <td>0</td>\n",
       "      <td>0</td>\n",
       "      <td>...</td>\n",
       "      <td>0</td>\n",
       "      <td>0</td>\n",
       "      <td>0</td>\n",
       "      <td>0</td>\n",
       "      <td>0</td>\n",
       "      <td>0</td>\n",
       "      <td>0</td>\n",
       "      <td>0</td>\n",
       "      <td>0</td>\n",
       "      <td>0</td>\n",
       "    </tr>\n",
       "    <tr>\n",
       "      <th>4</th>\n",
       "      <td>1200.0</td>\n",
       "      <td>2.0</td>\n",
       "      <td>51.00</td>\n",
       "      <td>2</td>\n",
       "      <td>0</td>\n",
       "      <td>0</td>\n",
       "      <td>0</td>\n",
       "      <td>0</td>\n",
       "      <td>0</td>\n",
       "      <td>0</td>\n",
       "      <td>...</td>\n",
       "      <td>0</td>\n",
       "      <td>0</td>\n",
       "      <td>0</td>\n",
       "      <td>0</td>\n",
       "      <td>0</td>\n",
       "      <td>0</td>\n",
       "      <td>0</td>\n",
       "      <td>0</td>\n",
       "      <td>0</td>\n",
       "      <td>0</td>\n",
       "    </tr>\n",
       "    <tr>\n",
       "      <th>6</th>\n",
       "      <td>2732.0</td>\n",
       "      <td>4.0</td>\n",
       "      <td>204.00</td>\n",
       "      <td>4</td>\n",
       "      <td>0</td>\n",
       "      <td>0</td>\n",
       "      <td>0</td>\n",
       "      <td>0</td>\n",
       "      <td>0</td>\n",
       "      <td>0</td>\n",
       "      <td>...</td>\n",
       "      <td>0</td>\n",
       "      <td>0</td>\n",
       "      <td>0</td>\n",
       "      <td>0</td>\n",
       "      <td>0</td>\n",
       "      <td>0</td>\n",
       "      <td>0</td>\n",
       "      <td>0</td>\n",
       "      <td>0</td>\n",
       "      <td>0</td>\n",
       "    </tr>\n",
       "  </tbody>\n",
       "</table>\n",
       "<p>5 rows × 243 columns</p>\n",
       "</div>"
      ],
      "text/plain": [
       "   total_sqft  bath   price  BHK  1st Block Jayanagar  1st Phase JP Nagar  \\\n",
       "0      1056.0   2.0   39.07    2                    0                   0   \n",
       "2      1440.0   2.0   62.00    3                    0                   0   \n",
       "3      1521.0   3.0   95.00    3                    0                   0   \n",
       "4      1200.0   2.0   51.00    2                    0                   0   \n",
       "6      2732.0   4.0  204.00    4                    0                   0   \n",
       "\n",
       "   2nd Phase Judicial Layout  2nd Stage Nagarbhavi  5th Block Hbr Layout  \\\n",
       "0                          0                     0                     0   \n",
       "2                          0                     0                     0   \n",
       "3                          0                     0                     0   \n",
       "4                          0                     0                     0   \n",
       "6                          0                     0                     0   \n",
       "\n",
       "   5th Phase JP Nagar  ...  Vijayanagar  Vishveshwarya Layout  \\\n",
       "0                   0  ...            0                     0   \n",
       "2                   0  ...            0                     0   \n",
       "3                   0  ...            0                     0   \n",
       "4                   0  ...            0                     0   \n",
       "6                   0  ...            0                     0   \n",
       "\n",
       "   Vishwapriya Layout  Vittasandra  Whitefield  Yelachenahalli  Yelahanka  \\\n",
       "0                   0            0           0               0          0   \n",
       "2                   0            0           0               0          0   \n",
       "3                   0            0           0               0          0   \n",
       "4                   0            0           0               0          0   \n",
       "6                   0            0           0               0          0   \n",
       "\n",
       "   Yelahanka New Town  Yelenahalli  Yeshwanthpur  \n",
       "0                   0            0             0  \n",
       "2                   0            0             0  \n",
       "3                   0            0             0  \n",
       "4                   0            0             0  \n",
       "6                   0            0             0  \n",
       "\n",
       "[5 rows x 243 columns]"
      ]
     },
     "execution_count": 72,
     "metadata": {},
     "output_type": "execute_result"
    }
   ],
   "source": [
    "df9 = df8.drop(\"location\",axis=1)\n",
    "df9.head()"
   ]
  },
  {
   "cell_type": "code",
   "execution_count": 96,
   "id": "8e72d7a9",
   "metadata": {},
   "outputs": [
    {
     "name": "stdout",
     "output_type": "stream",
     "text": [
      "Shape of the X is (8117, 242), and y is (8117,)\n"
     ]
    }
   ],
   "source": [
    "# feature and label distinguise:\n",
    "X_df = df9.drop(\"price\",axis=1)\n",
    "X = X_df.values\n",
    "\n",
    "y_df = df9[\"price\"]\n",
    "y = y_df.values\n",
    "\n",
    "print(f\"Shape of the X is {X.shape}, and y is {y.shape}\")"
   ]
  },
  {
   "cell_type": "markdown",
   "id": "26bc19a1",
   "metadata": {},
   "source": [
    "#### Train test split:"
   ]
  },
  {
   "cell_type": "code",
   "execution_count": 97,
   "id": "63010b82",
   "metadata": {},
   "outputs": [],
   "source": [
    "from sklearn.model_selection import train_test_split,ShuffleSplit,GridSearchCV\n",
    "X_train, X_test, y_train, y_test = train_test_split(X, y, test_size=0.2, random_state=42)"
   ]
  },
  {
   "cell_type": "markdown",
   "id": "d0e5ea5c",
   "metadata": {},
   "source": [
    "### Linear Model:"
   ]
  },
  {
   "cell_type": "code",
   "execution_count": 98,
   "id": "9b8a91f8",
   "metadata": {},
   "outputs": [
    {
     "name": "stdout",
     "output_type": "stream",
     "text": [
      "The model accuracy is 0.9129883641228899\n"
     ]
    }
   ],
   "source": [
    "from sklearn.linear_model import LinearRegression\n",
    "linear = LinearRegression()\n",
    "linear.fit(X_train,y_train)\n",
    "print(f\"The model accuracy is {linear.score(X_test,y_test)}\")"
   ]
  },
  {
   "cell_type": "code",
   "execution_count": 99,
   "id": "482709c5",
   "metadata": {},
   "outputs": [
    {
     "name": "stdout",
     "output_type": "stream",
     "text": [
      "Fitting 5 folds for each of 4 candidates, totalling 20 fits\n",
      "[CV 1/5] END .fit_intercept=True, positive=True;, score=0.826 total time=   0.2s\n",
      "[CV 2/5] END .fit_intercept=True, positive=True;, score=0.858 total time=   0.2s\n",
      "[CV 3/5] END .fit_intercept=True, positive=True;, score=0.875 total time=   0.2s\n",
      "[CV 4/5] END .fit_intercept=True, positive=True;, score=0.848 total time=   0.2s\n",
      "[CV 5/5] END .fit_intercept=True, positive=True;, score=0.834 total time=   0.2s\n",
      "[CV 1/5] END fit_intercept=True, positive=False;, score=0.838 total time=   0.1s\n",
      "[CV 2/5] END fit_intercept=True, positive=False;, score=0.865 total time=   0.1s\n",
      "[CV 3/5] END fit_intercept=True, positive=False;, score=0.882 total time=   0.2s\n",
      "[CV 4/5] END fit_intercept=True, positive=False;, score=0.860 total time=   0.2s\n",
      "[CV 5/5] END fit_intercept=True, positive=False;, score=0.851 total time=   0.1s\n",
      "[CV 1/5] END fit_intercept=False, positive=True;, score=0.800 total time=   0.1s\n",
      "[CV 2/5] END fit_intercept=False, positive=True;, score=0.818 total time=   0.1s\n",
      "[CV 3/5] END fit_intercept=False, positive=True;, score=0.854 total time=   0.1s\n",
      "[CV 4/5] END fit_intercept=False, positive=True;, score=0.809 total time=   0.1s\n",
      "[CV 5/5] END fit_intercept=False, positive=True;, score=0.796 total time=   0.1s\n",
      "[CV 1/5] END fit_intercept=False, positive=False;, score=0.839 total time=   0.2s\n",
      "[CV 2/5] END fit_intercept=False, positive=False;, score=0.865 total time=   0.2s\n",
      "[CV 3/5] END fit_intercept=False, positive=False;, score=0.882 total time=   0.2s\n",
      "[CV 4/5] END fit_intercept=False, positive=False;, score=0.860 total time=   0.2s\n",
      "[CV 5/5] END fit_intercept=False, positive=False;, score=0.851 total time=   0.2s\n"
     ]
    }
   ],
   "source": [
    "cv = ShuffleSplit(n_splits=5,test_size=0.3,random_state=0)\n",
    "config = {\n",
    "    'model': LinearRegression(),\n",
    "    'params':{\n",
    "        'fit_intercept':[True,False],\n",
    "        'positive':[True,False]\n",
    "    }\n",
    "}\n",
    "\n",
    "score = {\n",
    "    \"models\":[],\n",
    "    \"best_params\":[],\n",
    "    \"best_accs\":[],\n",
    "    \"best_estimators\":[]\n",
    "}\n",
    "\n",
    "gridsearch = GridSearchCV(estimator=config['model'],param_grid=config['params'],cv=cv,verbose=3)\n",
    "gridsearch.fit(X,y)\n",
    "score[\"models\"].append(\"Linear\")\n",
    "score[\"best_params\"].append(gridsearch.best_params_)\n",
    "score[\"best_accs\"].append(gridsearch.best_score_)\n",
    "score[\"best_estimators\"].append(gridsearch.best_estimator_)"
   ]
  },
  {
   "cell_type": "markdown",
   "id": "6e1ae9bf",
   "metadata": {},
   "source": [
    "### Lasso Model:"
   ]
  },
  {
   "cell_type": "code",
   "execution_count": 100,
   "id": "0de4f06b",
   "metadata": {},
   "outputs": [
    {
     "name": "stdout",
     "output_type": "stream",
     "text": [
      "The model accuracy is 0.8903854332391099\n"
     ]
    }
   ],
   "source": [
    "from sklearn.linear_model import Lasso\n",
    "lasso = Lasso()\n",
    "lasso.fit(X_train,y_train)\n",
    "print(f\"The model accuracy is {lasso.score(X_test,y_test)}\")"
   ]
  },
  {
   "cell_type": "code",
   "execution_count": 101,
   "id": "b4c06df3",
   "metadata": {},
   "outputs": [
    {
     "name": "stdout",
     "output_type": "stream",
     "text": [
      "Fitting 5 folds for each of 4 candidates, totalling 20 fits\n",
      "[CV 1/5] END .......alpha=1.0, selection=cyclic;, score=0.808 total time=   0.0s\n",
      "[CV 2/5] END .......alpha=1.0, selection=cyclic;, score=0.846 total time=   0.0s\n",
      "[CV 3/5] END .......alpha=1.0, selection=cyclic;, score=0.855 total time=   0.0s\n",
      "[CV 4/5] END .......alpha=1.0, selection=cyclic;, score=0.832 total time=   0.0s\n",
      "[CV 5/5] END .......alpha=1.0, selection=cyclic;, score=0.817 total time=   0.0s\n",
      "[CV 1/5] END .......alpha=1.0, selection=random;, score=0.808 total time=   0.0s\n",
      "[CV 2/5] END .......alpha=1.0, selection=random;, score=0.846 total time=   0.0s\n",
      "[CV 3/5] END .......alpha=1.0, selection=random;, score=0.855 total time=   0.0s\n",
      "[CV 4/5] END .......alpha=1.0, selection=random;, score=0.832 total time=   0.0s\n",
      "[CV 5/5] END .......alpha=1.0, selection=random;, score=0.817 total time=   0.0s\n",
      "[CV 1/5] END .......alpha=2.0, selection=cyclic;, score=0.808 total time=   0.0s\n",
      "[CV 2/5] END .......alpha=2.0, selection=cyclic;, score=0.846 total time=   0.0s\n",
      "[CV 3/5] END .......alpha=2.0, selection=cyclic;, score=0.858 total time=   0.0s\n",
      "[CV 4/5] END .......alpha=2.0, selection=cyclic;, score=0.832 total time=   0.0s\n",
      "[CV 5/5] END .......alpha=2.0, selection=cyclic;, score=0.817 total time=   0.0s\n",
      "[CV 1/5] END .......alpha=2.0, selection=random;, score=0.808 total time=   0.0s\n",
      "[CV 2/5] END .......alpha=2.0, selection=random;, score=0.846 total time=   0.0s\n",
      "[CV 3/5] END .......alpha=2.0, selection=random;, score=0.858 total time=   0.0s\n",
      "[CV 4/5] END .......alpha=2.0, selection=random;, score=0.832 total time=   0.0s\n",
      "[CV 5/5] END .......alpha=2.0, selection=random;, score=0.817 total time=   0.0s\n"
     ]
    }
   ],
   "source": [
    "cv = ShuffleSplit(n_splits=5,test_size=0.3,random_state=0)\n",
    "config = {\n",
    "    'model': Lasso(),\n",
    "    'params':{\n",
    "        'alpha' :[1.0,2.0],\n",
    "        'selection' : ['cyclic', 'random']\n",
    "    }\n",
    "}\n",
    "\n",
    "gridsearch = GridSearchCV(estimator=config['model'],param_grid=config['params'],cv=cv,verbose=3)\n",
    "gridsearch.fit(X,y)\n",
    "score[\"models\"].append(\"Lasso\")\n",
    "score[\"best_params\"].append(gridsearch.best_params_)\n",
    "score[\"best_accs\"].append(gridsearch.best_score_)\n",
    "score[\"best_estimators\"].append(gridsearch.best_estimator_)"
   ]
  },
  {
   "cell_type": "markdown",
   "id": "244a8d06",
   "metadata": {},
   "source": [
    "### Ridge model:"
   ]
  },
  {
   "cell_type": "code",
   "execution_count": 102,
   "id": "583fcc3c",
   "metadata": {},
   "outputs": [
    {
     "name": "stdout",
     "output_type": "stream",
     "text": [
      "The model accuracy is 0.9141870500282653\n"
     ]
    }
   ],
   "source": [
    "from sklearn.linear_model import Ridge\n",
    "ridge = Ridge()\n",
    "ridge.fit(X_train,y_train)\n",
    "print(f\"The model accuracy is {ridge.score(X_test,y_test)}\")"
   ]
  },
  {
   "cell_type": "code",
   "execution_count": 103,
   "id": "9674d79a",
   "metadata": {
    "scrolled": true
   },
   "outputs": [
    {
     "name": "stdout",
     "output_type": "stream",
     "text": [
      "Fitting 5 folds for each of 8 candidates, totalling 40 fits\n",
      "[CV 1/5] END ............alpha=1.0, solver=auto;, score=0.840 total time=   0.0s\n",
      "[CV 2/5] END ............alpha=1.0, solver=auto;, score=0.868 total time=   0.0s\n",
      "[CV 3/5] END ............alpha=1.0, solver=auto;, score=0.882 total time=   0.0s\n",
      "[CV 4/5] END ............alpha=1.0, solver=auto;, score=0.861 total time=   0.0s\n",
      "[CV 5/5] END ............alpha=1.0, solver=auto;, score=0.852 total time=   0.0s\n",
      "[CV 1/5] END .............alpha=1.0, solver=svd;, score=0.840 total time=   0.2s\n",
      "[CV 2/5] END .............alpha=1.0, solver=svd;, score=0.868 total time=   0.2s\n",
      "[CV 3/5] END .............alpha=1.0, solver=svd;, score=0.882 total time=   0.2s\n",
      "[CV 4/5] END .............alpha=1.0, solver=svd;, score=0.861 total time=   0.3s\n",
      "[CV 5/5] END .............alpha=1.0, solver=svd;, score=0.852 total time=   0.3s\n",
      "[CV 1/5] END ........alpha=1.0, solver=cholesky;, score=0.840 total time=   0.0s\n",
      "[CV 2/5] END ........alpha=1.0, solver=cholesky;, score=0.868 total time=   0.0s\n",
      "[CV 3/5] END ........alpha=1.0, solver=cholesky;, score=0.882 total time=   0.0s\n",
      "[CV 4/5] END ........alpha=1.0, solver=cholesky;, score=0.861 total time=   0.0s\n",
      "[CV 5/5] END ........alpha=1.0, solver=cholesky;, score=0.852 total time=   0.0s\n",
      "[CV 1/5] END ............alpha=1.0, solver=lsqr;, score=0.808 total time=   0.0s\n",
      "[CV 2/5] END ............alpha=1.0, solver=lsqr;, score=0.846 total time=   0.0s\n",
      "[CV 3/5] END ............alpha=1.0, solver=lsqr;, score=0.849 total time=   0.0s\n",
      "[CV 4/5] END ............alpha=1.0, solver=lsqr;, score=0.832 total time=   0.0s\n",
      "[CV 5/5] END ............alpha=1.0, solver=lsqr;, score=0.817 total time=   0.0s\n",
      "[CV 1/5] END ............alpha=2.0, solver=auto;, score=0.841 total time=   0.0s\n",
      "[CV 2/5] END ............alpha=2.0, solver=auto;, score=0.869 total time=   0.0s\n",
      "[CV 3/5] END ............alpha=2.0, solver=auto;, score=0.882 total time=   0.0s\n",
      "[CV 4/5] END ............alpha=2.0, solver=auto;, score=0.862 total time=   0.0s\n",
      "[CV 5/5] END ............alpha=2.0, solver=auto;, score=0.852 total time=   0.0s\n",
      "[CV 1/5] END .............alpha=2.0, solver=svd;, score=0.841 total time=   0.3s\n",
      "[CV 2/5] END .............alpha=2.0, solver=svd;, score=0.869 total time=   0.3s\n",
      "[CV 3/5] END .............alpha=2.0, solver=svd;, score=0.882 total time=   0.2s\n",
      "[CV 4/5] END .............alpha=2.0, solver=svd;, score=0.862 total time=   0.2s\n",
      "[CV 5/5] END .............alpha=2.0, solver=svd;, score=0.852 total time=   0.2s\n",
      "[CV 1/5] END ........alpha=2.0, solver=cholesky;, score=0.841 total time=   0.0s\n",
      "[CV 2/5] END ........alpha=2.0, solver=cholesky;, score=0.869 total time=   0.0s\n",
      "[CV 3/5] END ........alpha=2.0, solver=cholesky;, score=0.882 total time=   0.0s\n",
      "[CV 4/5] END ........alpha=2.0, solver=cholesky;, score=0.862 total time=   0.0s\n",
      "[CV 5/5] END ........alpha=2.0, solver=cholesky;, score=0.852 total time=   0.0s\n",
      "[CV 1/5] END ............alpha=2.0, solver=lsqr;, score=0.808 total time=   0.0s\n",
      "[CV 2/5] END ............alpha=2.0, solver=lsqr;, score=0.846 total time=   0.0s\n",
      "[CV 3/5] END ............alpha=2.0, solver=lsqr;, score=0.849 total time=   0.0s\n",
      "[CV 4/5] END ............alpha=2.0, solver=lsqr;, score=0.832 total time=   0.0s\n",
      "[CV 5/5] END ............alpha=2.0, solver=lsqr;, score=0.817 total time=   0.0s\n"
     ]
    }
   ],
   "source": [
    "cv = ShuffleSplit(n_splits=5,test_size=0.3,random_state=0)\n",
    "config = {\n",
    "    'model': Ridge(),\n",
    "    'params':{\n",
    "        'alpha' :[1.0,2.0],\n",
    "        'solver' : ['auto', 'svd', 'cholesky', 'lsqr']\n",
    "    }\n",
    "}\n",
    "\n",
    "gridsearch = GridSearchCV(estimator=config['model'],param_grid=config['params'],cv=cv,verbose=3)\n",
    "gridsearch.fit(X,y)\n",
    "score[\"models\"].append(\"Ridge\")\n",
    "score[\"best_params\"].append(gridsearch.best_params_)\n",
    "score[\"best_accs\"].append(gridsearch.best_score_)\n",
    "score[\"best_estimators\"].append(gridsearch.best_estimator_)"
   ]
  },
  {
   "cell_type": "code",
   "execution_count": 104,
   "id": "b432c8c5",
   "metadata": {},
   "outputs": [
    {
     "data": {
      "text/plain": [
       "{'models': ['Linear', 'Lasso', 'Ridge'],\n",
       " 'best_params': [{'fit_intercept': True, 'positive': False},\n",
       "  {'alpha': 2.0, 'selection': 'random'},\n",
       "  {'alpha': 2.0, 'solver': 'svd'}],\n",
       " 'best_accs': [0.859392234096074, 0.8324774664381941, 0.8608277606520621],\n",
       " 'best_estimators': [LinearRegression(),\n",
       "  Lasso(alpha=2.0, selection='random'),\n",
       "  Ridge(alpha=2.0, solver='svd')]}"
      ]
     },
     "execution_count": 104,
     "metadata": {},
     "output_type": "execute_result"
    }
   ],
   "source": [
    "score"
   ]
  },
  {
   "cell_type": "markdown",
   "id": "5be0d96f",
   "metadata": {},
   "source": [
    "### Decision Tree Model:"
   ]
  },
  {
   "cell_type": "code",
   "execution_count": 105,
   "id": "e9b233fc",
   "metadata": {},
   "outputs": [
    {
     "name": "stdout",
     "output_type": "stream",
     "text": [
      "The model accuracy is 0.6761783941742822\n"
     ]
    }
   ],
   "source": [
    "from sklearn.tree import DecisionTreeRegressor\n",
    "d_tree = DecisionTreeRegressor()\n",
    "d_tree.fit(X_train,y_train)\n",
    "print(f\"The model accuracy is {d_tree.score(X_test,y_test)}\")"
   ]
  },
  {
   "cell_type": "code",
   "execution_count": 106,
   "id": "972f3b39",
   "metadata": {
    "collapsed": true
   },
   "outputs": [
    {
     "name": "stdout",
     "output_type": "stream",
     "text": [
      "Fitting 5 folds for each of 27 candidates, totalling 135 fits\n",
      "[CV 1/5] END criterion=squared_error, max_depth=1, max_leaf_nodes=1;, score=nan total time=   0.0s\n",
      "[CV 2/5] END criterion=squared_error, max_depth=1, max_leaf_nodes=1;, score=nan total time=   0.0s\n",
      "[CV 3/5] END criterion=squared_error, max_depth=1, max_leaf_nodes=1;, score=nan total time=   0.0s\n",
      "[CV 4/5] END criterion=squared_error, max_depth=1, max_leaf_nodes=1;, score=nan total time=   0.0s\n",
      "[CV 5/5] END criterion=squared_error, max_depth=1, max_leaf_nodes=1;, score=nan total time=   0.0s\n",
      "[CV 1/5] END criterion=squared_error, max_depth=1, max_leaf_nodes=10;, score=0.537 total time=   0.0s\n",
      "[CV 2/5] END criterion=squared_error, max_depth=1, max_leaf_nodes=10;, score=0.501 total time=   0.0s\n",
      "[CV 3/5] END criterion=squared_error, max_depth=1, max_leaf_nodes=10;, score=0.425 total time=   0.0s\n",
      "[CV 4/5] END criterion=squared_error, max_depth=1, max_leaf_nodes=10;, score=0.540 total time=   0.0s\n",
      "[CV 5/5] END criterion=squared_error, max_depth=1, max_leaf_nodes=10;, score=0.539 total time=   0.0s\n",
      "[CV 1/5] END criterion=squared_error, max_depth=1, max_leaf_nodes=None;, score=0.537 total time=   0.0s\n",
      "[CV 2/5] END criterion=squared_error, max_depth=1, max_leaf_nodes=None;, score=0.501 total time=   0.0s\n",
      "[CV 3/5] END criterion=squared_error, max_depth=1, max_leaf_nodes=None;, score=0.425 total time=   0.0s\n",
      "[CV 4/5] END criterion=squared_error, max_depth=1, max_leaf_nodes=None;, score=0.540 total time=   0.0s\n",
      "[CV 5/5] END criterion=squared_error, max_depth=1, max_leaf_nodes=None;, score=0.539 total time=   0.0s\n",
      "[CV 1/5] END criterion=squared_error, max_depth=10, max_leaf_nodes=1;, score=nan total time=   0.0s\n",
      "[CV 2/5] END criterion=squared_error, max_depth=10, max_leaf_nodes=1;, score=nan total time=   0.0s\n",
      "[CV 3/5] END criterion=squared_error, max_depth=10, max_leaf_nodes=1;, score=nan total time=   0.0s\n",
      "[CV 4/5] END criterion=squared_error, max_depth=10, max_leaf_nodes=1;, score=nan total time=   0.0s\n",
      "[CV 5/5] END criterion=squared_error, max_depth=10, max_leaf_nodes=1;, score=nan total time=   0.0s\n",
      "[CV 1/5] END criterion=squared_error, max_depth=10, max_leaf_nodes=10;, score=0.776 total time=   0.0s\n",
      "[CV 2/5] END criterion=squared_error, max_depth=10, max_leaf_nodes=10;, score=0.802 total time=   0.0s\n",
      "[CV 3/5] END criterion=squared_error, max_depth=10, max_leaf_nodes=10;, score=0.745 total time=   0.0s\n",
      "[CV 4/5] END criterion=squared_error, max_depth=10, max_leaf_nodes=10;, score=0.814 total time=   0.0s\n",
      "[CV 5/5] END criterion=squared_error, max_depth=10, max_leaf_nodes=10;, score=0.793 total time=   0.0s\n",
      "[CV 1/5] END criterion=squared_error, max_depth=10, max_leaf_nodes=None;, score=0.608 total time=   0.0s\n",
      "[CV 2/5] END criterion=squared_error, max_depth=10, max_leaf_nodes=None;, score=0.814 total time=   0.0s\n",
      "[CV 3/5] END criterion=squared_error, max_depth=10, max_leaf_nodes=None;, score=0.783 total time=   0.0s\n",
      "[CV 4/5] END criterion=squared_error, max_depth=10, max_leaf_nodes=None;, score=0.837 total time=   0.0s\n",
      "[CV 5/5] END criterion=squared_error, max_depth=10, max_leaf_nodes=None;, score=0.842 total time=   0.0s\n",
      "[CV 1/5] END criterion=squared_error, max_depth=None, max_leaf_nodes=1;, score=nan total time=   0.0s\n",
      "[CV 2/5] END criterion=squared_error, max_depth=None, max_leaf_nodes=1;, score=nan total time=   0.0s\n",
      "[CV 3/5] END criterion=squared_error, max_depth=None, max_leaf_nodes=1;, score=nan total time=   0.0s\n",
      "[CV 4/5] END criterion=squared_error, max_depth=None, max_leaf_nodes=1;, score=nan total time=   0.0s\n",
      "[CV 5/5] END criterion=squared_error, max_depth=None, max_leaf_nodes=1;, score=nan total time=   0.0s\n",
      "[CV 1/5] END criterion=squared_error, max_depth=None, max_leaf_nodes=10;, score=0.597 total time=   0.0s\n",
      "[CV 2/5] END criterion=squared_error, max_depth=None, max_leaf_nodes=10;, score=0.802 total time=   0.0s\n",
      "[CV 3/5] END criterion=squared_error, max_depth=None, max_leaf_nodes=10;, score=0.745 total time=   0.0s\n",
      "[CV 4/5] END criterion=squared_error, max_depth=None, max_leaf_nodes=10;, score=0.814 total time=   0.0s\n",
      "[CV 5/5] END criterion=squared_error, max_depth=None, max_leaf_nodes=10;, score=0.793 total time=   0.0s\n",
      "[CV 1/5] END criterion=squared_error, max_depth=None, max_leaf_nodes=None;, score=0.573 total time=   0.0s\n",
      "[CV 2/5] END criterion=squared_error, max_depth=None, max_leaf_nodes=None;, score=0.797 total time=   0.0s\n",
      "[CV 3/5] END criterion=squared_error, max_depth=None, max_leaf_nodes=None;, score=0.748 total time=   0.0s\n",
      "[CV 4/5] END criterion=squared_error, max_depth=None, max_leaf_nodes=None;, score=0.796 total time=   0.0s\n",
      "[CV 5/5] END criterion=squared_error, max_depth=None, max_leaf_nodes=None;, score=0.795 total time=   0.0s\n",
      "[CV 1/5] END criterion=friedman_mse, max_depth=1, max_leaf_nodes=1;, score=nan total time=   0.0s\n",
      "[CV 2/5] END criterion=friedman_mse, max_depth=1, max_leaf_nodes=1;, score=nan total time=   0.0s\n",
      "[CV 3/5] END criterion=friedman_mse, max_depth=1, max_leaf_nodes=1;, score=nan total time=   0.0s\n",
      "[CV 4/5] END criterion=friedman_mse, max_depth=1, max_leaf_nodes=1;, score=nan total time=   0.0s\n",
      "[CV 5/5] END criterion=friedman_mse, max_depth=1, max_leaf_nodes=1;, score=nan total time=   0.0s\n",
      "[CV 1/5] END criterion=friedman_mse, max_depth=1, max_leaf_nodes=10;, score=0.537 total time=   0.0s\n",
      "[CV 2/5] END criterion=friedman_mse, max_depth=1, max_leaf_nodes=10;, score=0.501 total time=   0.0s\n",
      "[CV 3/5] END criterion=friedman_mse, max_depth=1, max_leaf_nodes=10;, score=0.425 total time=   0.0s\n",
      "[CV 4/5] END criterion=friedman_mse, max_depth=1, max_leaf_nodes=10;, score=0.540 total time=   0.0s\n",
      "[CV 5/5] END criterion=friedman_mse, max_depth=1, max_leaf_nodes=10;, score=0.539 total time=   0.0s\n",
      "[CV 1/5] END criterion=friedman_mse, max_depth=1, max_leaf_nodes=None;, score=0.537 total time=   0.0s\n",
      "[CV 2/5] END criterion=friedman_mse, max_depth=1, max_leaf_nodes=None;, score=0.501 total time=   0.0s\n",
      "[CV 3/5] END criterion=friedman_mse, max_depth=1, max_leaf_nodes=None;, score=0.425 total time=   0.0s\n",
      "[CV 4/5] END criterion=friedman_mse, max_depth=1, max_leaf_nodes=None;, score=0.540 total time=   0.0s\n",
      "[CV 5/5] END criterion=friedman_mse, max_depth=1, max_leaf_nodes=None;, score=0.539 total time=   0.0s\n",
      "[CV 1/5] END criterion=friedman_mse, max_depth=10, max_leaf_nodes=1;, score=nan total time=   0.0s\n",
      "[CV 2/5] END criterion=friedman_mse, max_depth=10, max_leaf_nodes=1;, score=nan total time=   0.0s\n",
      "[CV 3/5] END criterion=friedman_mse, max_depth=10, max_leaf_nodes=1;, score=nan total time=   0.0s\n",
      "[CV 4/5] END criterion=friedman_mse, max_depth=10, max_leaf_nodes=1;, score=nan total time=   0.0s\n",
      "[CV 5/5] END criterion=friedman_mse, max_depth=10, max_leaf_nodes=1;, score=nan total time=   0.0s\n",
      "[CV 1/5] END criterion=friedman_mse, max_depth=10, max_leaf_nodes=10;, score=0.597 total time=   0.0s\n",
      "[CV 2/5] END criterion=friedman_mse, max_depth=10, max_leaf_nodes=10;, score=0.802 total time=   0.0s\n",
      "[CV 3/5] END criterion=friedman_mse, max_depth=10, max_leaf_nodes=10;, score=0.745 total time=   0.0s\n",
      "[CV 4/5] END criterion=friedman_mse, max_depth=10, max_leaf_nodes=10;, score=0.814 total time=   0.0s\n",
      "[CV 5/5] END criterion=friedman_mse, max_depth=10, max_leaf_nodes=10;, score=0.793 total time=   0.0s\n",
      "[CV 1/5] END criterion=friedman_mse, max_depth=10, max_leaf_nodes=None;, score=0.786 total time=   0.0s\n",
      "[CV 2/5] END criterion=friedman_mse, max_depth=10, max_leaf_nodes=None;, score=0.840 total time=   0.0s\n",
      "[CV 3/5] END criterion=friedman_mse, max_depth=10, max_leaf_nodes=None;, score=0.780 total time=   0.0s\n",
      "[CV 4/5] END criterion=friedman_mse, max_depth=10, max_leaf_nodes=None;, score=0.837 total time=   0.0s\n",
      "[CV 5/5] END criterion=friedman_mse, max_depth=10, max_leaf_nodes=None;, score=0.844 total time=   0.0s\n",
      "[CV 1/5] END criterion=friedman_mse, max_depth=None, max_leaf_nodes=1;, score=nan total time=   0.0s\n",
      "[CV 2/5] END criterion=friedman_mse, max_depth=None, max_leaf_nodes=1;, score=nan total time=   0.0s\n",
      "[CV 3/5] END criterion=friedman_mse, max_depth=None, max_leaf_nodes=1;, score=nan total time=   0.0s\n",
      "[CV 4/5] END criterion=friedman_mse, max_depth=None, max_leaf_nodes=1;, score=nan total time=   0.0s\n",
      "[CV 5/5] END criterion=friedman_mse, max_depth=None, max_leaf_nodes=1;, score=nan total time=   0.0s\n"
     ]
    },
    {
     "name": "stdout",
     "output_type": "stream",
     "text": [
      "[CV 1/5] END criterion=friedman_mse, max_depth=None, max_leaf_nodes=10;, score=0.597 total time=   0.0s\n",
      "[CV 2/5] END criterion=friedman_mse, max_depth=None, max_leaf_nodes=10;, score=0.802 total time=   0.0s\n",
      "[CV 3/5] END criterion=friedman_mse, max_depth=None, max_leaf_nodes=10;, score=0.745 total time=   0.0s\n",
      "[CV 4/5] END criterion=friedman_mse, max_depth=None, max_leaf_nodes=10;, score=0.814 total time=   0.0s\n",
      "[CV 5/5] END criterion=friedman_mse, max_depth=None, max_leaf_nodes=10;, score=0.793 total time=   0.0s\n",
      "[CV 1/5] END criterion=friedman_mse, max_depth=None, max_leaf_nodes=None;, score=0.563 total time=   0.0s\n",
      "[CV 2/5] END criterion=friedman_mse, max_depth=None, max_leaf_nodes=None;, score=0.785 total time=   0.0s\n",
      "[CV 3/5] END criterion=friedman_mse, max_depth=None, max_leaf_nodes=None;, score=0.746 total time=   0.0s\n",
      "[CV 4/5] END criterion=friedman_mse, max_depth=None, max_leaf_nodes=None;, score=0.798 total time=   0.0s\n",
      "[CV 5/5] END criterion=friedman_mse, max_depth=None, max_leaf_nodes=None;, score=0.792 total time=   0.0s\n",
      "[CV 1/5] END criterion=absolute_error, max_depth=1, max_leaf_nodes=1;, score=nan total time=   0.0s\n",
      "[CV 2/5] END criterion=absolute_error, max_depth=1, max_leaf_nodes=1;, score=nan total time=   0.0s\n",
      "[CV 3/5] END criterion=absolute_error, max_depth=1, max_leaf_nodes=1;, score=nan total time=   0.0s\n",
      "[CV 4/5] END criterion=absolute_error, max_depth=1, max_leaf_nodes=1;, score=nan total time=   0.0s\n",
      "[CV 5/5] END criterion=absolute_error, max_depth=1, max_leaf_nodes=1;, score=nan total time=   0.0s\n",
      "[CV 1/5] END criterion=absolute_error, max_depth=1, max_leaf_nodes=10;, score=0.416 total time=   1.9s\n",
      "[CV 2/5] END criterion=absolute_error, max_depth=1, max_leaf_nodes=10;, score=0.374 total time=   1.9s\n",
      "[CV 3/5] END criterion=absolute_error, max_depth=1, max_leaf_nodes=10;, score=0.310 total time=   1.9s\n",
      "[CV 4/5] END criterion=absolute_error, max_depth=1, max_leaf_nodes=10;, score=0.399 total time=   1.8s\n",
      "[CV 5/5] END criterion=absolute_error, max_depth=1, max_leaf_nodes=10;, score=0.395 total time=   1.9s\n",
      "[CV 1/5] END criterion=absolute_error, max_depth=1, max_leaf_nodes=None;, score=0.416 total time=   1.8s\n",
      "[CV 2/5] END criterion=absolute_error, max_depth=1, max_leaf_nodes=None;, score=0.374 total time=   1.8s\n",
      "[CV 3/5] END criterion=absolute_error, max_depth=1, max_leaf_nodes=None;, score=0.310 total time=   1.9s\n",
      "[CV 4/5] END criterion=absolute_error, max_depth=1, max_leaf_nodes=None;, score=0.399 total time=   1.9s\n",
      "[CV 5/5] END criterion=absolute_error, max_depth=1, max_leaf_nodes=None;, score=0.395 total time=   1.9s\n",
      "[CV 1/5] END criterion=absolute_error, max_depth=10, max_leaf_nodes=1;, score=nan total time=   0.0s\n",
      "[CV 2/5] END criterion=absolute_error, max_depth=10, max_leaf_nodes=1;, score=nan total time=   0.0s\n",
      "[CV 3/5] END criterion=absolute_error, max_depth=10, max_leaf_nodes=1;, score=nan total time=   0.0s\n",
      "[CV 4/5] END criterion=absolute_error, max_depth=10, max_leaf_nodes=1;, score=nan total time=   0.0s\n",
      "[CV 5/5] END criterion=absolute_error, max_depth=10, max_leaf_nodes=1;, score=nan total time=   0.0s\n",
      "[CV 1/5] END criterion=absolute_error, max_depth=10, max_leaf_nodes=10;, score=0.772 total time=   3.9s\n",
      "[CV 2/5] END criterion=absolute_error, max_depth=10, max_leaf_nodes=10;, score=0.776 total time=   3.8s\n",
      "[CV 3/5] END criterion=absolute_error, max_depth=10, max_leaf_nodes=10;, score=0.662 total time=   3.9s\n",
      "[CV 4/5] END criterion=absolute_error, max_depth=10, max_leaf_nodes=10;, score=0.778 total time=   4.0s\n",
      "[CV 5/5] END criterion=absolute_error, max_depth=10, max_leaf_nodes=10;, score=0.800 total time=   3.9s\n",
      "[CV 1/5] END criterion=absolute_error, max_depth=10, max_leaf_nodes=None;, score=0.604 total time=   4.9s\n",
      "[CV 2/5] END criterion=absolute_error, max_depth=10, max_leaf_nodes=None;, score=0.826 total time=   5.1s\n",
      "[CV 3/5] END criterion=absolute_error, max_depth=10, max_leaf_nodes=None;, score=0.784 total time=   4.8s\n",
      "[CV 4/5] END criterion=absolute_error, max_depth=10, max_leaf_nodes=None;, score=0.828 total time=   4.7s\n",
      "[CV 5/5] END criterion=absolute_error, max_depth=10, max_leaf_nodes=None;, score=0.846 total time=   4.9s\n",
      "[CV 1/5] END criterion=absolute_error, max_depth=None, max_leaf_nodes=1;, score=nan total time=   0.0s\n",
      "[CV 2/5] END criterion=absolute_error, max_depth=None, max_leaf_nodes=1;, score=nan total time=   0.0s\n",
      "[CV 3/5] END criterion=absolute_error, max_depth=None, max_leaf_nodes=1;, score=nan total time=   0.0s\n",
      "[CV 4/5] END criterion=absolute_error, max_depth=None, max_leaf_nodes=1;, score=nan total time=   0.0s\n",
      "[CV 5/5] END criterion=absolute_error, max_depth=None, max_leaf_nodes=1;, score=nan total time=   0.0s\n",
      "[CV 1/5] END criterion=absolute_error, max_depth=None, max_leaf_nodes=10;, score=0.772 total time=   3.8s\n",
      "[CV 2/5] END criterion=absolute_error, max_depth=None, max_leaf_nodes=10;, score=0.776 total time=   3.9s\n",
      "[CV 3/5] END criterion=absolute_error, max_depth=None, max_leaf_nodes=10;, score=0.662 total time=   3.8s\n",
      "[CV 4/5] END criterion=absolute_error, max_depth=None, max_leaf_nodes=10;, score=0.778 total time=   3.8s\n",
      "[CV 5/5] END criterion=absolute_error, max_depth=None, max_leaf_nodes=10;, score=0.800 total time=   3.7s\n",
      "[CV 1/5] END criterion=absolute_error, max_depth=None, max_leaf_nodes=None;, score=0.741 total time=   8.4s\n",
      "[CV 2/5] END criterion=absolute_error, max_depth=None, max_leaf_nodes=None;, score=0.774 total time=   8.6s\n",
      "[CV 3/5] END criterion=absolute_error, max_depth=None, max_leaf_nodes=None;, score=0.760 total time=   8.3s\n",
      "[CV 4/5] END criterion=absolute_error, max_depth=None, max_leaf_nodes=None;, score=0.788 total time=   8.6s\n",
      "[CV 5/5] END criterion=absolute_error, max_depth=None, max_leaf_nodes=None;, score=0.803 total time=   7.8s\n"
     ]
    },
    {
     "name": "stderr",
     "output_type": "stream",
     "text": [
      "C:\\Users\\rahul\\anaconda3\\envs\\tf\\lib\\site-packages\\sklearn\\model_selection\\_validation.py:378: FitFailedWarning: \n",
      "45 fits failed out of a total of 135.\n",
      "The score on these train-test partitions for these parameters will be set to nan.\n",
      "If these failures are not expected, you can try to debug them by setting error_score='raise'.\n",
      "\n",
      "Below are more details about the failures:\n",
      "--------------------------------------------------------------------------------\n",
      "45 fits failed with the following error:\n",
      "Traceback (most recent call last):\n",
      "  File \"C:\\Users\\rahul\\anaconda3\\envs\\tf\\lib\\site-packages\\sklearn\\model_selection\\_validation.py\", line 686, in _fit_and_score\n",
      "    estimator.fit(X_train, y_train, **fit_params)\n",
      "  File \"C:\\Users\\rahul\\anaconda3\\envs\\tf\\lib\\site-packages\\sklearn\\tree\\_classes.py\", line 1247, in fit\n",
      "    super().fit(\n",
      "  File \"C:\\Users\\rahul\\anaconda3\\envs\\tf\\lib\\site-packages\\sklearn\\tree\\_classes.py\", line 177, in fit\n",
      "    self._validate_params()\n",
      "  File \"C:\\Users\\rahul\\anaconda3\\envs\\tf\\lib\\site-packages\\sklearn\\base.py\", line 600, in _validate_params\n",
      "    validate_parameter_constraints(\n",
      "  File \"C:\\Users\\rahul\\anaconda3\\envs\\tf\\lib\\site-packages\\sklearn\\utils\\_param_validation.py\", line 97, in validate_parameter_constraints\n",
      "    raise InvalidParameterError(\n",
      "sklearn.utils._param_validation.InvalidParameterError: The 'max_leaf_nodes' parameter of DecisionTreeRegressor must be an int in the range [2, inf) or None. Got 1 instead.\n",
      "\n",
      "  warnings.warn(some_fits_failed_message, FitFailedWarning)\n",
      "C:\\Users\\rahul\\anaconda3\\envs\\tf\\lib\\site-packages\\sklearn\\model_selection\\_search.py:952: UserWarning: One or more of the test scores are non-finite: [       nan 0.50851374 0.50851374        nan 0.78584903 0.77663409\n",
      "        nan 0.75013785 0.74193325        nan 0.50851374 0.50851374\n",
      "        nan 0.75013785 0.81738633        nan 0.75013785 0.73687736\n",
      "        nan 0.37884655 0.37884655        nan 0.75784376 0.77761289\n",
      "        nan 0.75784376 0.77312854]\n",
      "  warnings.warn(\n"
     ]
    }
   ],
   "source": [
    "cv = ShuffleSplit(n_splits=5,test_size=0.3,random_state=0)\n",
    "config = {\n",
    "    'model': DecisionTreeRegressor(),\n",
    "    'params':{\n",
    "        'criterion' : [\"squared_error\", \"friedman_mse\", \"absolute_error\"],\n",
    "        'max_depth' : [1,10,None],\n",
    "        'max_leaf_nodes' : [1,10,None]\n",
    "    }\n",
    "}\n",
    "\n",
    "gridsearch = GridSearchCV(estimator=config['model'],param_grid=config['params'],cv=cv,verbose=3)\n",
    "gridsearch.fit(X,y)\n",
    "score[\"models\"].append(\"Decision Tree\")\n",
    "score[\"best_params\"].append(gridsearch.best_params_)\n",
    "score[\"best_accs\"].append(gridsearch.best_score_)\n",
    "score[\"best_estimators\"].append(gridsearch.best_estimator_)"
   ]
  },
  {
   "cell_type": "code",
   "execution_count": 107,
   "id": "1407dc71",
   "metadata": {
    "scrolled": false
   },
   "outputs": [
    {
     "data": {
      "text/html": [
       "<div>\n",
       "<style scoped>\n",
       "    .dataframe tbody tr th:only-of-type {\n",
       "        vertical-align: middle;\n",
       "    }\n",
       "\n",
       "    .dataframe tbody tr th {\n",
       "        vertical-align: top;\n",
       "    }\n",
       "\n",
       "    .dataframe thead th {\n",
       "        text-align: right;\n",
       "    }\n",
       "</style>\n",
       "<table border=\"1\" class=\"dataframe\">\n",
       "  <thead>\n",
       "    <tr style=\"text-align: right;\">\n",
       "      <th></th>\n",
       "      <th>models</th>\n",
       "      <th>best_params</th>\n",
       "      <th>best_accs</th>\n",
       "      <th>best_estimators</th>\n",
       "    </tr>\n",
       "  </thead>\n",
       "  <tbody>\n",
       "    <tr>\n",
       "      <th>0</th>\n",
       "      <td>Linear</td>\n",
       "      <td>{'fit_intercept': True, 'positive': False}</td>\n",
       "      <td>0.859392</td>\n",
       "      <td>LinearRegression()</td>\n",
       "    </tr>\n",
       "    <tr>\n",
       "      <th>1</th>\n",
       "      <td>Lasso</td>\n",
       "      <td>{'alpha': 2.0, 'selection': 'random'}</td>\n",
       "      <td>0.832477</td>\n",
       "      <td>Lasso(alpha=2.0, selection='random')</td>\n",
       "    </tr>\n",
       "    <tr>\n",
       "      <th>2</th>\n",
       "      <td>Ridge</td>\n",
       "      <td>{'alpha': 2.0, 'solver': 'svd'}</td>\n",
       "      <td>0.860828</td>\n",
       "      <td>Ridge(alpha=2.0, solver='svd')</td>\n",
       "    </tr>\n",
       "    <tr>\n",
       "      <th>3</th>\n",
       "      <td>Decision Tree</td>\n",
       "      <td>{'criterion': 'friedman_mse', 'max_depth': 10,...</td>\n",
       "      <td>0.817386</td>\n",
       "      <td>DecisionTreeRegressor(criterion='friedman_mse'...</td>\n",
       "    </tr>\n",
       "  </tbody>\n",
       "</table>\n",
       "</div>"
      ],
      "text/plain": [
       "          models                                        best_params  \\\n",
       "0         Linear         {'fit_intercept': True, 'positive': False}   \n",
       "1          Lasso              {'alpha': 2.0, 'selection': 'random'}   \n",
       "2          Ridge                    {'alpha': 2.0, 'solver': 'svd'}   \n",
       "3  Decision Tree  {'criterion': 'friedman_mse', 'max_depth': 10,...   \n",
       "\n",
       "   best_accs                                    best_estimators  \n",
       "0   0.859392                                 LinearRegression()  \n",
       "1   0.832477               Lasso(alpha=2.0, selection='random')  \n",
       "2   0.860828                     Ridge(alpha=2.0, solver='svd')  \n",
       "3   0.817386  DecisionTreeRegressor(criterion='friedman_mse'...  "
      ]
     },
     "execution_count": 107,
     "metadata": {},
     "output_type": "execute_result"
    }
   ],
   "source": [
    "score_df = pd.DataFrame(data=score)\n",
    "score_df"
   ]
  },
  {
   "cell_type": "code",
   "execution_count": 115,
   "id": "c840b9f1",
   "metadata": {},
   "outputs": [
    {
     "data": {
      "text/plain": [
       "<Axes: xlabel='models', ylabel='best_accs'>"
      ]
     },
     "execution_count": 115,
     "metadata": {},
     "output_type": "execute_result"
    },
    {
     "data": {
      "image/png": "[encoded data removed]",
      "text/plain": [
       "<Figure size 640x480 with 1 Axes>"
      ]
     },
     "metadata": {},
     "output_type": "display_data"
    }
   ],
   "source": [
    "sns.barplot(data=score_df,x=\"models\",y=\"best_accs\")"
   ]
  },
  {
   "cell_type": "code",
   "execution_count": 116,
   "id": "1cb9c891",
   "metadata": {},
   "outputs": [],
   "source": [
    "best_model = score_df[score_df.best_accs == score_df.best_accs.max()]['best_estimators'].values[0]"
   ]
  },
  {
   "cell_type": "code",
   "execution_count": 117,
   "id": "a9bbcbe2",
   "metadata": {},
   "outputs": [],
   "source": [
    "def predict_price(location,total_sqft,bath,bhk):\n",
    "    loc_index = np.where(X_df.columns == location)[0][0]\n",
    "    \n",
    "    x = np.zeros_like(X_df.columns)\n",
    "    x[0] = total_sqft\n",
    "    x[1] = bath\n",
    "    x[2] = bhk\n",
    "    \n",
    "    x[loc_index] = 1\n",
    "    return best_model.predict([x])[0] "
   ]
  },
  {
   "cell_type": "code",
   "execution_count": 161,
   "id": "f71d0a9c",
   "metadata": {},
   "outputs": [
    {
     "data": {
      "text/plain": [
       "86.99937073687562"
      ]
     },
     "execution_count": 161,
     "metadata": {},
     "output_type": "execute_result"
    }
   ],
   "source": [
    "predict_price(location='Indira Nagar',total_sqft=1000,bath=3,bhk=3)"
   ]
  },
  {
   "cell_type": "code",
   "execution_count": 162,
   "id": "46d0d5d9",
   "metadata": {},
   "outputs": [],
   "source": [
    "import pickle \n",
    "with open(\"banglore_home_prices_model.pickle\",'wb') as f:\n",
    "    pickle.dump(best_model,f) "
   ]
  },
  {
   "cell_type": "code",
   "execution_count": 164,
   "id": "2205c4f5",
   "metadata": {},
   "outputs": [],
   "source": [
    "import json \n",
    "columns = {\n",
    "    'data_columns': [col.lower() for col in X_df.columns]\n",
    "}\n",
    "with open(\"columns.json\",'w') as f:\n",
    "    f.write(json.dumps(columns))"
   ]
  }
 ],
 "metadata": {
  "kernelspec": {
   "display_name": "tf",
   "language": "python",
   "name": "tf"
  },
  "language_info": {
   "codemirror_mode": {
    "name": "ipython",
    "version": 3
   },
   "file_extension": ".py",
   "mimetype": "text/x-python",
   "name": "python",
   "nbconvert_exporter": "python",
   "pygments_lexer": "ipython3",
   "version": "3.9.16"
  }
 },
 "nbformat": 4,
 "nbformat_minor": 5
}
